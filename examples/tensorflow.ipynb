{
 "cells": [
  {
   "cell_type": "code",
   "execution_count": 61,
   "metadata": {},
   "outputs": [
    {
     "name": "stdout",
     "output_type": "stream",
     "text": [
      "b'Bienvenido a , TensorFlow!'\n"
     ]
    }
   ],
   "source": [
    "import numpy as np\n",
    "import tensorflow.compat.v1 as tf\n",
    "tf.disable_v2_behavior()\n",
    "\n",
    "hello = tf.constant('Bienvenido a , TensorFlow!')\n",
    "sess = tf.Session()\n",
    "print(sess.run(hello))"
   ]
  },
  {
   "cell_type": "code",
   "execution_count": null,
   "metadata": {},
   "outputs": [],
   "source": [
    "import tensorflow as tf\n",
    "import numpy as np\n",
    "rank_0_tensor = tf.constant(4)\n",
    "print(rank_0_tensor)"
   ]
  },
  {
   "cell_type": "code",
   "execution_count": 50,
   "metadata": {},
   "outputs": [
    {
     "name": "stdout",
     "output_type": "stream",
     "text": [
      "Tensor(\"Const_19:0\", shape=(), dtype=int32)\n"
     ]
    }
   ],
   "source": [
    "import tensorflow as tf\n",
    "import numpy as np\n",
    "rank_0_tensor = tf.constant(4)\n",
    "print(rank_0_tensor)"
   ]
  },
  {
   "cell_type": "code",
   "execution_count": 51,
   "metadata": {},
   "outputs": [
    {
     "name": "stdout",
     "output_type": "stream",
     "text": [
      "Tensor(\"Const_20:0\", shape=(3,), dtype=float32)\n"
     ]
    }
   ],
   "source": [
    "rank_1_tensor = tf.constant([2.0, 3.0, 4.0])\n",
    "print(rank_1_tensor)"
   ]
  },
  {
   "cell_type": "code",
   "execution_count": 52,
   "metadata": {},
   "outputs": [
    {
     "name": "stdout",
     "output_type": "stream",
     "text": [
      "Tensor(\"Const_21:0\", shape=(3, 2), dtype=float16)\n"
     ]
    }
   ],
   "source": [
    "rank_2_tensor = tf.constant([[1, 2],\n",
    "                             [3, 4],\n",
    "                             [5, 6]], dtype=tf.float16)\n",
    "print(rank_2_tensor)"
   ]
  },
  {
   "cell_type": "markdown",
   "metadata": {},
   "source": [
    "VARIABLES EN TENSORFLOW"
   ]
  },
  {
   "cell_type": "code",
   "execution_count": 53,
   "metadata": {},
   "outputs": [
    {
     "name": "stdout",
     "output_type": "stream",
     "text": [
      "Tensor(\"add_6:0\", shape=(), dtype=float32)\n"
     ]
    }
   ],
   "source": [
    "\n",
    "\n",
    "v = tf.Variable(0.0)\n",
    "w = v + 1 # w es un tf.Tensor que se computa basado en el valor de v.\n",
    "           # Cualuier momento en que una variable es usada en una expresion\n",
    "           # Es convertida automaticamente en un tf.Tensor representando su\n",
    "           # valor\n",
    "print(w)"
   ]
  },
  {
   "cell_type": "code",
   "execution_count": 54,
   "metadata": {},
   "outputs": [
    {
     "data": {
      "text/plain": [
       "<tf.Variable 'AssignAddVariableOp_5' shape=() dtype=float32>"
      ]
     },
     "execution_count": 54,
     "metadata": {},
     "output_type": "execute_result"
    }
   ],
   "source": [
    "#Para asignar un valor a una variable, se usan los metodos assign, assign_add, y friends en la clase tf.Variable.\n",
    "#Por ejemplo, asi es como se pueden llamar estos metodos:\n",
    "\n",
    "\n",
    "v = tf.Variable(0.0)\n",
    "v.assign_add(1)"
   ]
  },
  {
   "cell_type": "code",
   "execution_count": 55,
   "metadata": {},
   "outputs": [
    {
     "data": {
      "text/plain": [
       "<tf.Tensor 'Identity_3:0' shape=() dtype=float32>"
      ]
     },
     "execution_count": 55,
     "metadata": {},
     "output_type": "execute_result"
    }
   ],
   "source": [
    "#Tambien se puede leer explicitamente el valor actual de una variable, usando read_value:\n",
    "\n",
    "\n",
    "v = tf.Variable(0.0)\n",
    "v.assign_add(7)\n",
    "v.read_value()  # 1.0"
   ]
  },
  {
   "cell_type": "markdown",
   "metadata": {},
   "source": [
    "Ejemplo de Gradiente"
   ]
  },
  {
   "cell_type": "code",
   "execution_count": 24,
   "metadata": {},
   "outputs": [
    {
     "name": "stdout",
     "output_type": "stream",
     "text": [
      "Predicted model: b =  [4.0000005]\n"
     ]
    }
   ],
   "source": [
    "import tensorflow.compat.v1 as tf\n",
    "tf.disable_v2_behavior()\n",
    "import numpy as np\n",
    " \n",
    "# x y y son placeholders\n",
    "x = tf.placeholder(tf.float32)\n",
    "y = tf.placeholder(tf.float32)\n",
    " \n",
    "# la ecuación que aplicamos es y = b*x*x\n",
    "b = tf.Variable([0.0], name=\"b\")\n",
    "ys = tf.multiply(tf.multiply(x, x),b)\n",
    " \n",
    "# control del error\n",
    "e = tf.square(y - ys)\n",
    " \n",
    "# The Gradient Descent Optimizer el gadiente descendiente optimo\n",
    "# 1.0 es el  learning_rate. \n",
    "train = tf.train.GradientDescentOptimizer(1.0).minimize(e)\n",
    " \n",
    "# creamos una sesión y entrenamos el modelo\n",
    "model = tf.global_variables_initializer()\n",
    " \n",
    "with tf.Session() as session:\n",
    "    session.run(model)\n",
    "    for i in range(50):\n",
    "        x_value = np.random.rand()\n",
    "        # Asumimos  b=4, entonces vamos a encontrar b_value = 4 y encontrarlo por descenso de gradiente\n",
    "        # y = 4*x*x\n",
    "        y_value = 4.0*x_value*x_value\n",
    "        session.run(train, feed_dict={x: x_value, y: y_value})\n",
    " \n",
    "    b_value = session.run(b)\n",
    "    print(\"Predicted model: b = \", b_value)"
   ]
  },
  {
   "cell_type": "code",
   "execution_count": null,
   "metadata": {},
   "outputs": [],
   "source": []
  },
  {
   "cell_type": "markdown",
   "metadata": {},
   "source": [
    "Gráficas en Tensorflow"
   ]
  },
  {
   "cell_type": "code",
   "execution_count": 58,
   "metadata": {},
   "outputs": [
    {
     "name": "stdout",
     "output_type": "stream",
     "text": [
      "1\n",
      "3\n"
     ]
    }
   ],
   "source": [
    "import numpy as np\n",
    "import tensorflow.compat.v1 as tf\n",
    "tf.disable_v2_behavior()\n",
    "\n",
    "# Crea una variable con un valor inicial de 1\n",
    "some_var = tf.Variable(1)\n",
    "\n",
    "# Crea una op para ejecutar inicializadores de variables\n",
    "init_op = tf.global_variables_initializer()\n",
    "# Crea una op para reemplazar el valor mantenido por some_var a 3\n",
    "assign_op = some_var.assign(3)\n",
    "# Instala dos instancias de una sesión\n",
    "sess1 = tf.Session()\n",
    "\n",
    "\n",
    "# Inicializa variables en ambas sesiones\n",
    "sess1.run(init_op)\n",
    "\n",
    "print(sess1.run(some_var)) # Salidas 1\n",
    "\n",
    "# Cambia some_var en sesión1\n",
    "sess1.run(assign_op)\n",
    "print(sess1.run(some_var)) # Salidas 3\n",
    "\n",
    "\n",
    "# Cierra Sesiones\n",
    "sess1.close()\n"
   ]
  },
  {
   "cell_type": "markdown",
   "metadata": {},
   "source": [
    "PROPAGACIÓN HACIA ATRAS\n"
   ]
  },
  {
   "cell_type": "code",
   "execution_count": 113,
   "metadata": {},
   "outputs": [
    {
     "name": "stdout",
     "output_type": "stream",
     "text": [
      "Step #25 A = [6.6036973]\n",
      "Loss = [17.037941]\n",
      "Step #50 A = [8.820587]\n",
      "Loss = [0.15502495]\n",
      "Step #75 A = [9.639409]\n",
      "Loss = [0.14274076]\n",
      "Step #100 A = [9.596413]\n",
      "Loss = [6.3281555]\n"
     ]
    }
   ],
   "source": [
    "import numpy as np\n",
    "import tensorflow.compat.v1 as tf\n",
    "tf.disable_v2_behavior()\n",
    "sess = tf.Session()\n",
    "x_vals = np.random.normal(1, 0.1, 100)\n",
    "y_vals = np.repeat(10., 100)\n",
    "x_data = tf.placeholder(shape=[1], dtype=tf.float32)\n",
    "y_target = tf.placeholder(shape=[1], dtype=tf.float32)\n",
    "A = tf.Variable(tf.random_normal(shape=[1]))\n",
    "my_output = tf1.multiply(x_data, A)\n",
    "loss = tf.square(my_output - y_target)\n",
    "init = tf.initialize_all_variables()\n",
    "sess.run(init)\n",
    "my_opt = tf.train.GradientDescentOptimizer(learning_rate=0.02)\n",
    "train_step = my_opt.minimize(loss)\n",
    "for i in range(100):\n",
    "    rand_index = np.random.choice(100)\n",
    "    rand_x = [x_vals[rand_index]]\n",
    "    rand_y = [y_vals[rand_index]]\n",
    "    sess.run(train_step, feed_dict={x_data: rand_x, y_target: rand_y})\n",
    "    if (i+1)%25==0:\n",
    "        print('Step #'+ str(i+1) + ' A = ' + str(sess.run(A)))\n",
    "        print('Loss = '+ str(sess.run(loss, feed_dict={x_data:rand_x, y_target: rand_y})))\n",
    "\n"
   ]
  },
  {
   "cell_type": "code",
   "execution_count": 109,
   "metadata": {},
   "outputs": [],
   "source": [
    "from tensorflow.python.framework import ops\n",
    "ops.reset_default_graph()\n",
    "sess = tf.Session()\n",
    "x_vals = np.concatenate((np.random.normal(-1, 1, 50), np.random.\n",
    "normal(3, 1, 50)))\n",
    "y_vals = np.concatenate((np.repeat(0., 50), np.repeat(1., 50)))\n",
    "x_data = tf.placeholder(shape=[1], dtype=tf.float32)\n",
    "y_target = tf.placeholder(shape=[1], dtype=tf.float32)\n",
    "A = tf.Variable(tf.random_normal(mean=10, shape=[1]))"
   ]
  },
  {
   "cell_type": "code",
   "execution_count": 118,
   "metadata": {},
   "outputs": [
    {
     "name": "stdout",
     "output_type": "stream",
     "text": [
      "WARNING:tensorflow:From <ipython-input-118-01ae226bc0a9>:7: to_float (from tensorflow.python.ops.math_ops) is deprecated and will be removed in a future version.\n",
      "Instructions for updating:\n",
      "Use `tf.cast` instead.\n",
      "Step #200 A = [91.84589]\n",
      "Loss = [[-835.64185]]\n",
      "Step #400 A = [181.84528]\n",
      "Loss = [[-1645.148]]\n",
      "Step #600 A = [271.8452]\n",
      "Loss = [[-2453.8025]]\n",
      "Step #800 A = [361.84766]\n",
      "Loss = [[-3267.7366]]\n",
      "Step #1000 A = [451.8501]\n",
      "Loss = [[-4078.126]]\n",
      "Step #1200 A = [541.85254]\n",
      "Loss = [[-4886.0254]]\n",
      "Step #1400 A = [631.855]\n",
      "Loss = [[-5696.6943]]\n"
     ]
    }
   ],
   "source": [
    "my_output = tf.add(x_data, A)\n",
    "my_output_expanded = tf.expand_dims(my_output, 0)\n",
    "y_target_expanded = tf.expand_dims(y_target, 0)\n",
    "init = tf.initialize_all_variables()\n",
    "sess.run(init)\n",
    "xentropy=tf.nn.sigmoid_cross_entropy_with_logits(logits=my_output_expanded, labels=tf.to_float(y_target_expanded))\n",
    "my_opt = tf.train.GradientDescentOptimizer(0.05)\n",
    "train_step = my_opt.minimize(xentropy)\n",
    "for i in range(1400):\n",
    "    rand_index = np.random.choice(100)\n",
    "    rand_x = [x_vals[rand_index]]\n",
    "    rand_y = [y_vals[rand_index]]\n",
    "    sess.run(train_step, feed_dict={x_data: rand_x, y_target:rand_y})\n",
    "    if (i+1)%200==0:\n",
    "        print('Step #' + str(i+1) + ' A = ' + str(sess.run(A)))\n",
    "        print('Loss = ' + str(sess.run(xentropy, feed_dict={x_data: rand_x, y_target: rand_y})))"
   ]
  },
  {
   "cell_type": "markdown",
   "metadata": {},
   "source": [
    "PRECEPTOR CON UNA NEURONA --> OPERACION AND"
   ]
  },
  {
   "cell_type": "code",
   "execution_count": 16,
   "metadata": {},
   "outputs": [
    {
     "name": "stdout",
     "output_type": "stream",
     "text": [
      "2.5.0\n"
     ]
    }
   ],
   "source": [
    "import tensorflow as tf\n",
    "print(tf.__version__)\n",
    "#!pip install --upgrade tensorflow\n",
    "\n",
    "# Let us initialize our training examples first. \n",
    "X1=tf.Variable(initial_value=[0.,1.,0.,1.])\n",
    "X2=tf.Variable(initial_value=[0.,0.,1.,1.])\n",
    "Y_AND=tf.Variable(initial_value=[0.,0.,0.,1.])\n",
    "class Model(object):\n",
    " \n",
    "   def __init__(self):\n",
    "    self.W1 = tf.Variable(2.)\n",
    "    self.W2= tf.Variable(2.)\n",
    "    self.b=tf.Variable(2.)\n",
    "        \n",
    "   \n",
    "   def __call__(self, X1,X2):\n",
    "    self.K1=self.W1 * X1 + self.W2 * X2 + self.b\n",
    "    self.Output = tf.keras.activations.sigmoid(self.K1)\n",
    "    return(self.Output)\n",
    "    \n",
    "model=Model()\n"
   ]
  },
  {
   "cell_type": "code",
   "execution_count": 17,
   "metadata": {},
   "outputs": [],
   "source": [
    "def compute_cost(target_y, predicted_y):\n",
    "    c=tf.keras.losses.BinaryCrossentropy()\n",
    "    return(c(target_y,predicted_y))"
   ]
  },
  {
   "cell_type": "code",
   "execution_count": 18,
   "metadata": {},
   "outputs": [],
   "source": [
    "def None_to_Zero(v):\n",
    "    if v==None:\n",
    "        v=0\n",
    "    return v"
   ]
  },
  {
   "cell_type": "code",
   "execution_count": 19,
   "metadata": {},
   "outputs": [],
   "source": [
    "def train(model, X1, X2, Y2, learning_rate):\n",
    "    with tf.GradientTape() as t:\n",
    "        current_loss = compute_cost(Y2,model(X1,X2))\n",
    "    dW1,dW2,db=t.gradient(current_loss,[model.W1,model.W2,model.b])\n",
    "    dW1=None_to_Zero(dW1)\n",
    "    db=None_to_Zero(db)\n",
    "    dW2=None_to_Zero(dW2)\n",
    "    model.W1.assign_sub(learning_rate * dW1)\n",
    "    model.b.assign_sub(learning_rate * db)\n",
    "    model.W2.assign_sub(learning_rate * dW2)"
   ]
  },
  {
   "cell_type": "code",
   "execution_count": 20,
   "metadata": {},
   "outputs": [
    {
     "name": "stdout",
     "output_type": "stream",
     "text": [
      "[0. 0. 0. 1.]\n"
     ]
    }
   ],
   "source": [
    "import numpy as np\n",
    "epochs=range(1000)\n",
    "learning_rate=0.1\n",
    "for epoch in epochs:\n",
    "    train(model, X1, X2,Y_AND, learning_rate)\n",
    "print(np.round(model(X1, X2).numpy()))"
   ]
  },
  {
   "cell_type": "markdown",
   "metadata": {},
   "source": [
    "REDES NEURONALES MULTICAPA "
   ]
  },
  {
   "cell_type": "code",
   "execution_count": 27,
   "metadata": {},
   "outputs": [
    {
     "name": "stdout",
     "output_type": "stream",
     "text": [
      "\n",
      "Epoch: 0\n",
      "\n",
      "Error: 0.26442587\n",
      "     [0.62025726]\n",
      "     [0.6200183]\n",
      "     [0.6200183]\n",
      "     [0.6198486]\n",
      "\n",
      "Epoch: 10000\n",
      "\n",
      "Error: 0.07002342\n",
      "     [0.2077933]\n",
      "     [0.7534745]\n",
      "     [0.7534745]\n",
      "     [0.33965564]\n",
      "\n",
      "Epoch: 20000\n",
      "\n",
      "Error: 0.0061955405\n",
      "     [0.07956657]\n",
      "     [0.9271754]\n",
      "     [0.9271754]\n",
      "     [0.08856907]\n",
      "\n",
      "Epoch: 30000\n",
      "\n",
      "Error: 0.0028774943\n",
      "     [0.05516872]\n",
      "     [0.9504955]\n",
      "     [0.9504955]\n",
      "     [0.05970758]\n",
      "\n",
      "Epoch: 40000\n",
      "\n",
      "Error: 0.0018379441\n",
      "     [0.04440123]\n",
      "     [0.9604852]\n",
      "     [0.9604852]\n",
      "     [0.04751286]\n",
      "\n",
      "Epoch: 50000\n",
      "\n",
      "Error: 0.0013404149\n",
      "     [0.03807229]\n",
      "     [0.96628344]\n",
      "     [0.96628344]\n",
      "     [0.04047897]\n",
      "\n",
      "Epoch: 60000\n",
      "\n",
      "Error: 0.001051139\n",
      "     [0.03380311]\n",
      "     [0.970159]\n",
      "     [0.970159]\n",
      "     [0.03579015]\n",
      "\n",
      "Epoch: 70000\n",
      "\n",
      "Error: 0.00086272974\n",
      "     [0.03068176]\n",
      "     [0.9729731]\n",
      "     [0.9729731]\n",
      "     [0.03238276]\n",
      "\n",
      "Epoch: 80000\n",
      "\n",
      "Error: 0.00073076086\n",
      "     [0.02828008]\n",
      "     [0.9751314]\n",
      "     [0.9751314]\n",
      "     [0.02977222]\n",
      "\n",
      "Epoch: 90000\n",
      "\n",
      "Error: 0.0006333374\n",
      "     [0.02635822]\n",
      "     [0.976854]\n",
      "     [0.976854]\n",
      "     [0.02769697]\n",
      "\n",
      "Epoch: 100000\n",
      "\n",
      "Error: 0.0005582967\n",
      "     [0.02478385]\n",
      "     [0.97827876]\n",
      "     [0.97827876]\n",
      "     [0.02598697]\n",
      "Complete\n"
     ]
    }
   ],
   "source": [
    "# coding=utf-8\n",
    "import tensorflow.compat.v1 as tf\n",
    "tf.disable_v2_behavior()\n",
    "\n",
    "# entrada vector X\n",
    "X = [[0, 0], [0, 1], [1, 0], [1, 1]]\n",
    "# salida vector Y\n",
    "Y = [[0], [1], [1], [0]]\n",
    " \n",
    "# Placeholders para las entradas y salidas\n",
    "x = tf.placeholder(tf.float32, shape=[4,2])\n",
    "y = tf.placeholder(tf.float32, shape=[4,1])\n",
    " \n",
    "# W matriz\n",
    "W1 = tf.Variable([[1.0, 0.0], [1.0, 0.0]], shape=[2,2])\n",
    "W2 = tf.Variable([[0.0], [1.0]], shape=[2,1])\n",
    " \n",
    "# Biases\n",
    "B1 = tf.Variable([0.0, 0.0], shape=[2])\n",
    "B2 = tf.Variable([0.0], shape=1)\n",
    " \n",
    "# capa oculta and capa salida\n",
    "output =tf.sigmoid(tf.matmul(tf.sigmoid(tf.matmul(x, W1) + B1), W2) + B2)\n",
    " \n",
    "# error de estimacion\n",
    "e = tf.reduce_mean(tf.squared_difference(y, output))\n",
    "train = tf.train.GradientDescentOptimizer(0.1).minimize(e)\n",
    " \n",
    "init = tf.global_variables_initializer()\n",
    "sess = tf.Session()\n",
    "sess.run(init)\n",
    " \n",
    "for i in range (100001):\n",
    "    error = sess.run(train, feed_dict={x: X, y: Y})\n",
    "    if i % 10000 == 0:\n",
    "        print('\\nEpoch: ' + str(i))\n",
    "        print('\\nError: ' + str(sess.run(e, feed_dict={x: X, y: Y})))\n",
    "        for el in sess.run(output, feed_dict={x: X, y: Y}):\n",
    "            print('    ',el)\n",
    "sess.close()\n",
    " \n",
    "print (\"Complete\")"
   ]
  },
  {
   "cell_type": "markdown",
   "metadata": {},
   "source": [
    "todas las operaciones lógicas "
   ]
  },
  {
   "cell_type": "code",
   "execution_count": null,
   "metadata": {},
   "outputs": [],
   "source": [
    "import tensorflow as tf\n",
    "print(tf.__version__)\n",
    "#!pip install --upgrade tensorflow\n",
    "\n",
    "# Let us initialize our training examples first. \n",
    "X1=tf.Variable(initial_value=[0.,1.,0.,1.])\n",
    "X2=tf.Variable(initial_value=[0.,0.,1.,1.])\n",
    "Y_AND=tf.Variable(initial_value=[0.,0.,0.,1.])\n",
    "#Y_NOR=tf.Variable(initial_value=[1.,0.,0.,0.])\n",
    "Y_OR=tf.Variable(initial_value=[0.,1.,1.,1.])\n",
    "#Y_XOR=tf.Variable(initial_value=[0.,1.,1.,0.])\n",
    "#Y_XNOR=tf.Variable(initial_value=[1.,0.,0.,1.])---\n",
    "\n",
    "\n",
    "class Model(object):\n",
    " \n",
    "   def __init__(self):\n",
    "    self.W1 = tf.Variable(2.)\n",
    "    self.W2= tf.Variable(2.)\n",
    "    self.b=tf.Variable(2.)\n",
    "        \n",
    "   \n",
    "   def __call__(self, X1,X2):\n",
    "    self.K1=self.W1 * X1 + self.W2 * X2 + self.b\n",
    "    self.Output = tf.keras.activations.sigmoid(self.K1)\n",
    "    return(self.Output)\n",
    "    \n",
    "model=Model()\n"
   ]
  },
  {
   "cell_type": "code",
   "execution_count": null,
   "metadata": {},
   "outputs": [],
   "source": [
    "def compute_cost(target_y, predicted_y):\n",
    "    c=tf.keras.losses.BinaryCrossentropy()\n",
    "    return(c(target_y,predicted_y))"
   ]
  },
  {
   "cell_type": "code",
   "execution_count": null,
   "metadata": {},
   "outputs": [],
   "source": [
    "def None_to_Zero(v):\n",
    "    if v==None:\n",
    "        v=0\n",
    "    return v"
   ]
  },
  {
   "cell_type": "code",
   "execution_count": null,
   "metadata": {},
   "outputs": [],
   "source": [
    "def train(model, X1, X2, Y2, learning_rate):\n",
    "    with tf.GradientTape() as t:\n",
    "        current_loss = compute_cost(Y2,model(X1,X2))\n",
    "    dW1,dW2,db=t.gradient(current_loss,[model.W1,model.W2,model.b])\n",
    "    dW1=None_to_Zero(dW1)\n",
    "    db=None_to_Zero(db)\n",
    "    dW2=None_to_Zero(dW2)\n",
    "    model.W1.assign_sub(learning_rate * dW1)\n",
    "    model.b.assign_sub(learning_rate * db)\n",
    "    model.W2.assign_sub(learning_rate * dW2)"
   ]
  },
  {
   "cell_type": "code",
   "execution_count": null,
   "metadata": {},
   "outputs": [],
   "source": [
    "import numpy as np\n",
    "epochs=range(1000)\n",
    "learning_rate=0.1\n",
    "for epoch in epochs:\n",
    "   # train(model, X1, X2,Y_AND, learning_rate)\n",
    "   # train(model, X1, X2,Y_NOR, learning_rate)\n",
    "    train(model, X1, X2,Y_OR, learning_rate)\n",
    "print(\"resultado\")\n",
    "print(np.round(model(X1, X2).numpy()))"
   ]
  },
  {
   "cell_type": "markdown",
   "metadata": {},
   "source": [
    "CODIGO IMAGENES NEURONALES"
   ]
  },
  {
   "cell_type": "code",
   "execution_count": 23,
   "metadata": {},
   "outputs": [
    {
     "name": "stdout",
     "output_type": "stream",
     "text": [
      "2.5.0\n"
     ]
    }
   ],
   "source": [
    "# TensorFlow y tf.keras\n",
    "import tensorflow as tf\n",
    "from tensorflow import keras\n",
    "\n",
    "# Librerias de ayuda\n",
    "import numpy as np\n",
    "import matplotlib.pyplot as plt\n",
    "\n",
    "print(tf.__version__)"
   ]
  },
  {
   "cell_type": "code",
   "execution_count": 24,
   "metadata": {},
   "outputs": [],
   "source": [
    "#Importar el set de datos de moda de MNIST\n",
    "fashion_mnist = keras.datasets.fashion_mnist\n",
    "\n",
    "(train_images, train_labels), (test_images, test_labels) = fashion_mnist.load_data()"
   ]
  },
  {
   "cell_type": "code",
   "execution_count": 25,
   "metadata": {},
   "outputs": [],
   "source": [
    "class_names = ['T-shirt/top', 'Trouser', 'Pullover', 'Dress', 'Coat',\n",
    "               'Sandal', 'Shirt', 'Sneaker', 'Bag', 'Ankle boot']"
   ]
  },
  {
   "cell_type": "code",
   "execution_count": 26,
   "metadata": {},
   "outputs": [
    {
     "data": {
      "image/png": "[encoded data removed]",
      "text/plain": [
       "<Figure size 640x480 with 2 Axes>"
      ]
     },
     "metadata": {},
     "output_type": "display_data"
    }
   ],
   "source": [
    "plt.figure()\n",
    "plt.imshow(train_images[1])\n",
    "plt.colorbar()\n",
    "plt.grid(False)\n",
    "plt.show()"
   ]
  },
  {
   "cell_type": "code",
   "execution_count": 27,
   "metadata": {},
   "outputs": [],
   "source": [
    "#valores en un rango de 0 a 1 . El set de datos debe ser pre-procesada antes de entrenar la red.\n",
    "train_images = train_images / 255.0\n",
    "\n",
    "test_images = test_images / 255.0"
   ]
  },
  {
   "cell_type": "code",
   "execution_count": 40,
   "metadata": {},
   "outputs": [
    {
     "data": {
      "image/png": "[encoded data removed]",
      "text/plain": [
       "<Figure size 1000x1000 with 20 Axes>"
      ]
     },
     "metadata": {},
     "output_type": "display_data"
    }
   ],
   "source": [
    "# verificar que el set de datos esta en el formato adecuado y que estan listos para construir y entrenar la red\n",
    "plt.figure(figsize=(10,10))\n",
    "for i in range(20):\n",
    "    plt.subplot(5,5,i+1)\n",
    "    plt.xticks([])\n",
    "    plt.yticks([])\n",
    "    plt.grid(False)\n",
    "    plt.imshow(train_images[i], cmap=plt.cm.binary)\n",
    "    plt.xlabel(class_names[train_labels[i]])\n",
    "plt.show()"
   ]
  },
  {
   "cell_type": "code",
   "execution_count": 29,
   "metadata": {},
   "outputs": [],
   "source": [
    "#Construir el modelo \n",
    "model = keras.Sequential([\n",
    "    keras.layers.Flatten(input_shape=(28, 28)),\n",
    "    keras.layers.Dense(128, activation='relu'),\n",
    "    keras.layers.Dense(10, activation='softmax')\n",
    "])"
   ]
  },
  {
   "cell_type": "code",
   "execution_count": 30,
   "metadata": {},
   "outputs": [],
   "source": [
    "#compilar el modelo\n",
    "model.compile(optimizer='adam',\n",
    "              loss='sparse_categorical_crossentropy',\n",
    "              metrics=['accuracy'])"
   ]
  },
  {
   "cell_type": "code",
   "execution_count": 31,
   "metadata": {},
   "outputs": [
    {
     "name": "stdout",
     "output_type": "stream",
     "text": [
      "Epoch 1/10\n",
      "1875/1875 [==============================] - 2s 1ms/step - loss: 0.4982 - accuracy: 0.8247\n",
      "Epoch 2/10\n",
      "1875/1875 [==============================] - 2s 1ms/step - loss: 0.3737 - accuracy: 0.8647\n",
      "Epoch 3/10\n",
      "1875/1875 [==============================] - 2s 1ms/step - loss: 0.3370 - accuracy: 0.8782\n",
      "Epoch 4/10\n",
      "1875/1875 [==============================] - 2s 1ms/step - loss: 0.3121 - accuracy: 0.8848\n",
      "Epoch 5/10\n",
      "1875/1875 [==============================] - 2s 1ms/step - loss: 0.2950 - accuracy: 0.8913\n",
      "Epoch 6/10\n",
      "1875/1875 [==============================] - 2s 1ms/step - loss: 0.2808 - accuracy: 0.8960\n",
      "Epoch 7/10\n",
      "1875/1875 [==============================] - 2s 997us/step - loss: 0.2684 - accuracy: 0.9008\n",
      "Epoch 8/10\n",
      "1875/1875 [==============================] - 2s 1ms/step - loss: 0.2573 - accuracy: 0.9038\n",
      "Epoch 9/10\n",
      "1875/1875 [==============================] - 2s 1ms/step - loss: 0.2490 - accuracy: 0.9071\n",
      "Epoch 10/10\n",
      "1875/1875 [==============================] - 2s 1ms/step - loss: 0.2399 - accuracy: 0.9102\n"
     ]
    },
    {
     "data": {
      "text/plain": [
       "<tensorflow.python.keras.callbacks.History at 0x2630da1faf0>"
      ]
     },
     "execution_count": 31,
     "metadata": {},
     "output_type": "execute_result"
    }
   ],
   "source": [
    "#entrenar el modelo \n",
    "model.fit(train_images, train_labels, epochs=10)"
   ]
  },
  {
   "cell_type": "code",
   "execution_count": 33,
   "metadata": {},
   "outputs": [
    {
     "name": "stdout",
     "output_type": "stream",
     "text": [
      "313/313 - 0s - loss: 0.3344 - accuracy: 0.8878\n",
      "\n",
      "Test accuracy: 0.8877999782562256\n"
     ]
    }
   ],
   "source": [
    "#evaluar la exactitud \n",
    "test_loss, test_acc = model.evaluate(test_images,  test_labels, verbose=2)\n",
    "\n",
    "print('\\nTest accuracy:', test_acc)"
   ]
  },
  {
   "cell_type": "code",
   "execution_count": 37,
   "metadata": {},
   "outputs": [
    {
     "data": {
      "text/plain": [
       "array([2.9035478e-05, 8.0003304e-15, 9.9335772e-01, 1.4495664e-09,\n",
       "       6.1750668e-03, 1.4700580e-14, 4.3812842e-04, 1.9442526e-17,\n",
       "       2.1547689e-10, 4.7936590e-13], dtype=float32)"
      ]
     },
     "execution_count": 37,
     "metadata": {},
     "output_type": "execute_result"
    }
   ],
   "source": [
    "#hacer predicciones\n",
    "predictions = model.predict(test_images)\n",
    "predictions[1]"
   ]
  },
  {
   "cell_type": "code",
   "execution_count": 38,
   "metadata": {},
   "outputs": [
    {
     "data": {
      "text/plain": [
       "2"
      ]
     },
     "execution_count": 38,
     "metadata": {},
     "output_type": "execute_result"
    }
   ],
   "source": [
    "np.argmax(predictions[1])"
   ]
  },
  {
   "cell_type": "code",
   "execution_count": 39,
   "metadata": {},
   "outputs": [
    {
     "data": {
      "text/plain": [
       "2"
      ]
     },
     "execution_count": 39,
     "metadata": {},
     "output_type": "execute_result"
    }
   ],
   "source": [
    "test_labels[1]"
   ]
  },
  {
   "cell_type": "markdown",
   "metadata": {},
   "source": [
    "DROPOUT "
   ]
  },
  {
   "cell_type": "code",
   "execution_count": 26,
   "metadata": {},
   "outputs": [],
   "source": [
    "import tensorflow as tf\n",
    "import numpy as np\n",
    "from sklearn.datasets import load_iris\n",
    "from sklearn.model_selection import train_test_split\n",
    "iris = load_iris()"
   ]
  },
  {
   "cell_type": "code",
   "execution_count": 27,
   "metadata": {},
   "outputs": [],
   "source": [
    "#Cargamos el dataframe \n",
    "df = pd.DataFrame(iris.data, columns=iris.feature_names)\n",
    "# Convert datatype to float\n",
    "df = df.astype(float)\n",
    "# cambiamos  \"target\" y asignamos el nombre \"label\"\n",
    "df['label'] = iris.target\n",
    "df['label'] = df.label.replace(dict(enumerate(iris.target_names)))"
   ]
  },
  {
   "cell_type": "code",
   "execution_count": 28,
   "metadata": {},
   "outputs": [],
   "source": [
    "label = pd.get_dummies(df['label'], prefix='label')\n",
    "df = pd.concat([df, label], axis=1)\n",
    "# dborrar la etiqueta \n",
    "df.drop(['label'], axis=1, inplace=True)"
   ]
  },
  {
   "cell_type": "code",
   "execution_count": 29,
   "metadata": {},
   "outputs": [],
   "source": [
    "# creando X e Y\n",
    "X = df[['sepal length (cm)', 'sepal width (cm)', 'petal length (cm)', 'petal width (cm)']]\n",
    "# Convert DataFrame into np array\n",
    "X = np.asarray(X)\n",
    "y = df[['label_setosa', 'label_versicolor', 'label_virginica']]\n",
    "# convertir el dataframe en un array de numpy\n",
    "y = np.asarray(y)"
   ]
  },
  {
   "cell_type": "code",
   "execution_count": 30,
   "metadata": {},
   "outputs": [],
   "source": [
    "X_train, X_test, y_train, y_test = train_test_split(\n",
    "  X,\n",
    "  y,\n",
    "  test_size=0.20\n",
    ")"
   ]
  },
  {
   "cell_type": "code",
   "execution_count": 31,
   "metadata": {},
   "outputs": [],
   "source": [
    "#Crear el modelo \n",
    "from tensorflow.keras.models import Sequential\n",
    "from tensorflow.keras.layers import Dense\n",
    "def create_model(): \n",
    "    model = Sequential([\n",
    "        Dense(64, activation='relu', input_shape=(4,)),\n",
    "        Dense(128, activation='relu'),\n",
    "        Dense(128, activation='relu'),\n",
    "        Dense(128, activation='relu'),\n",
    "        Dense(64, activation='relu'),\n",
    "        Dense(64, activation='relu'),\n",
    "        Dense(64, activation='relu'),\n",
    "        Dense(3, activation='softmax')\n",
    "    ])\n",
    "    return model"
   ]
  },
  {
   "cell_type": "code",
   "execution_count": 32,
   "metadata": {},
   "outputs": [
    {
     "name": "stdout",
     "output_type": "stream",
     "text": [
      "Model: \"sequential_2\"\n",
      "_________________________________________________________________\n",
      "Layer (type)                 Output Shape              Param #   \n",
      "=================================================================\n",
      "dense_16 (Dense)             (None, 64)                320       \n",
      "_________________________________________________________________\n",
      "dense_17 (Dense)             (None, 128)               8320      \n",
      "_________________________________________________________________\n",
      "dense_18 (Dense)             (None, 128)               16512     \n",
      "_________________________________________________________________\n",
      "dense_19 (Dense)             (None, 128)               16512     \n",
      "_________________________________________________________________\n",
      "dense_20 (Dense)             (None, 64)                8256      \n",
      "_________________________________________________________________\n",
      "dense_21 (Dense)             (None, 64)                4160      \n",
      "_________________________________________________________________\n",
      "dense_22 (Dense)             (None, 64)                4160      \n",
      "_________________________________________________________________\n",
      "dense_23 (Dense)             (None, 3)                 195       \n",
      "=================================================================\n",
      "Total params: 58,435\n",
      "Trainable params: 58,435\n",
      "Non-trainable params: 0\n",
      "_________________________________________________________________\n"
     ]
    }
   ],
   "source": [
    "model = create_model()\n",
    "model.summary()"
   ]
  },
  {
   "cell_type": "code",
   "execution_count": 33,
   "metadata": {},
   "outputs": [],
   "source": [
    "#compliar el modelo \n",
    "model.compile(\n",
    "    optimizer='adam', \n",
    "    loss='categorical_crossentropy', \n",
    "    metrics=['accuracy']\n",
    ")"
   ]
  },
  {
   "cell_type": "code",
   "execution_count": 34,
   "metadata": {},
   "outputs": [
    {
     "name": "stdout",
     "output_type": "stream",
     "text": [
      "Train on 90 samples, validate on 30 samples\n",
      "Epoch 1/200\n",
      "90/90 - 0s - loss: 1.0745 - acc: 0.4889 - val_loss: 1.0256 - val_acc: 0.2333\n",
      "Epoch 2/200\n",
      "90/90 - 0s - loss: 0.9955 - acc: 0.5333 - val_loss: 0.9383 - val_acc: 0.6667\n",
      "Epoch 3/200\n",
      "90/90 - 0s - loss: 0.9075 - acc: 0.7444 - val_loss: 0.8636 - val_acc: 0.7000\n",
      "Epoch 4/200\n",
      "90/90 - 0s - loss: 0.8259 - acc: 0.7333 - val_loss: 0.7498 - val_acc: 0.6667\n",
      "Epoch 5/200\n",
      "90/90 - 0s - loss: 0.7094 - acc: 0.7889 - val_loss: 0.6086 - val_acc: 1.0000\n",
      "Epoch 6/200\n",
      "90/90 - 0s - loss: 0.6019 - acc: 0.9444 - val_loss: 0.4576 - val_acc: 0.9000\n",
      "Epoch 7/200\n",
      "90/90 - 0s - loss: 0.4983 - acc: 0.8778 - val_loss: 0.3452 - val_acc: 0.9333\n",
      "Epoch 8/200\n",
      "90/90 - 0s - loss: 0.3951 - acc: 0.9222 - val_loss: 0.2916 - val_acc: 0.9667\n",
      "Epoch 9/200\n",
      "90/90 - 0s - loss: 0.3175 - acc: 0.9444 - val_loss: 0.2230 - val_acc: 1.0000\n",
      "Epoch 10/200\n",
      "90/90 - 0s - loss: 0.2573 - acc: 0.9556 - val_loss: 0.1732 - val_acc: 0.9667\n",
      "Epoch 11/200\n",
      "90/90 - 0s - loss: 0.2534 - acc: 0.9111 - val_loss: 0.1476 - val_acc: 1.0000\n",
      "Epoch 12/200\n",
      "90/90 - 0s - loss: 0.1751 - acc: 0.9556 - val_loss: 0.2520 - val_acc: 0.8667\n",
      "Epoch 13/200\n",
      "90/90 - 0s - loss: 0.1856 - acc: 0.9222 - val_loss: 0.1718 - val_acc: 0.8667\n",
      "Epoch 14/200\n",
      "90/90 - 0s - loss: 0.2805 - acc: 0.8889 - val_loss: 0.2834 - val_acc: 0.8667\n",
      "Epoch 15/200\n",
      "90/90 - 0s - loss: 0.2875 - acc: 0.8556 - val_loss: 0.0836 - val_acc: 1.0000\n",
      "Epoch 16/200\n",
      "90/90 - 0s - loss: 0.1859 - acc: 0.9333 - val_loss: 0.0801 - val_acc: 1.0000\n",
      "Epoch 17/200\n",
      "90/90 - 0s - loss: 0.1527 - acc: 0.9556 - val_loss: 0.1322 - val_acc: 0.9333\n",
      "Epoch 18/200\n",
      "90/90 - 0s - loss: 0.1507 - acc: 0.9444 - val_loss: 0.0708 - val_acc: 1.0000\n",
      "Epoch 19/200\n",
      "90/90 - 0s - loss: 0.1389 - acc: 0.9556 - val_loss: 0.1609 - val_acc: 0.9333\n",
      "Epoch 20/200\n",
      "90/90 - 0s - loss: 0.1333 - acc: 0.9444 - val_loss: 0.0648 - val_acc: 1.0000\n",
      "Epoch 21/200\n",
      "90/90 - 0s - loss: 0.1181 - acc: 0.9556 - val_loss: 0.1003 - val_acc: 0.9667\n",
      "Epoch 22/200\n",
      "90/90 - 0s - loss: 0.1279 - acc: 0.9556 - val_loss: 0.0996 - val_acc: 0.9667\n",
      "Epoch 23/200\n",
      "90/90 - 0s - loss: 0.1170 - acc: 0.9444 - val_loss: 0.0906 - val_acc: 0.9667\n",
      "Epoch 24/200\n",
      "90/90 - 0s - loss: 0.1086 - acc: 0.9556 - val_loss: 0.0993 - val_acc: 0.9667\n",
      "Epoch 25/200\n",
      "90/90 - 0s - loss: 0.1148 - acc: 0.9556 - val_loss: 0.1535 - val_acc: 0.9333\n",
      "Epoch 26/200\n",
      "90/90 - 0s - loss: 0.1348 - acc: 0.9222 - val_loss: 0.0766 - val_acc: 0.9667\n",
      "Epoch 27/200\n",
      "90/90 - 0s - loss: 0.1029 - acc: 0.9778 - val_loss: 0.0511 - val_acc: 1.0000\n",
      "Epoch 28/200\n",
      "90/90 - 0s - loss: 0.1109 - acc: 0.9667 - val_loss: 0.0662 - val_acc: 0.9667\n",
      "Epoch 29/200\n",
      "90/90 - 0s - loss: 0.0995 - acc: 0.9667 - val_loss: 0.0488 - val_acc: 1.0000\n",
      "Epoch 30/200\n",
      "90/90 - 0s - loss: 0.1047 - acc: 0.9556 - val_loss: 0.0603 - val_acc: 0.9667\n",
      "Epoch 31/200\n",
      "90/90 - 0s - loss: 0.0997 - acc: 0.9667 - val_loss: 0.0549 - val_acc: 0.9667\n",
      "Epoch 32/200\n",
      "90/90 - 0s - loss: 0.0978 - acc: 0.9556 - val_loss: 0.0944 - val_acc: 0.9667\n",
      "Epoch 33/200\n",
      "90/90 - 0s - loss: 0.1866 - acc: 0.9333 - val_loss: 0.0553 - val_acc: 1.0000\n",
      "Epoch 34/200\n",
      "90/90 - 0s - loss: 0.2296 - acc: 0.9111 - val_loss: 0.0446 - val_acc: 1.0000\n",
      "Epoch 35/200\n",
      "90/90 - 0s - loss: 0.1457 - acc: 0.9333 - val_loss: 0.0766 - val_acc: 0.9667\n",
      "Epoch 36/200\n",
      "90/90 - 0s - loss: 0.1481 - acc: 0.9333 - val_loss: 0.0867 - val_acc: 0.9333\n",
      "Epoch 37/200\n",
      "90/90 - 0s - loss: 0.1932 - acc: 0.9333 - val_loss: 0.2001 - val_acc: 0.8667\n",
      "Epoch 38/200\n",
      "90/90 - 0s - loss: 0.1950 - acc: 0.9111 - val_loss: 0.0659 - val_acc: 0.9667\n",
      "Epoch 39/200\n",
      "90/90 - 0s - loss: 0.1687 - acc: 0.9444 - val_loss: 0.0630 - val_acc: 1.0000\n",
      "Epoch 40/200\n",
      "90/90 - 0s - loss: 0.1329 - acc: 0.9222 - val_loss: 0.1541 - val_acc: 0.9000\n",
      "Epoch 41/200\n",
      "90/90 - 0s - loss: 0.1273 - acc: 0.9222 - val_loss: 0.0487 - val_acc: 1.0000\n",
      "Epoch 42/200\n",
      "90/90 - 0s - loss: 0.1059 - acc: 0.9556 - val_loss: 0.0470 - val_acc: 1.0000\n",
      "Epoch 43/200\n",
      "90/90 - 0s - loss: 0.1110 - acc: 0.9556 - val_loss: 0.1020 - val_acc: 0.9667\n",
      "Epoch 44/200\n",
      "90/90 - 0s - loss: 0.1405 - acc: 0.9333 - val_loss: 0.0595 - val_acc: 0.9667\n",
      "Epoch 45/200\n",
      "90/90 - 0s - loss: 0.1551 - acc: 0.9444 - val_loss: 0.0951 - val_acc: 0.9333\n",
      "Epoch 46/200\n",
      "90/90 - 0s - loss: 0.1719 - acc: 0.9444 - val_loss: 0.1546 - val_acc: 0.9333\n",
      "Epoch 47/200\n",
      "90/90 - 0s - loss: 0.1505 - acc: 0.9222 - val_loss: 0.0924 - val_acc: 0.9667\n",
      "Epoch 48/200\n",
      "90/90 - 0s - loss: 0.0993 - acc: 0.9444 - val_loss: 0.0670 - val_acc: 1.0000\n",
      "Epoch 49/200\n",
      "90/90 - 0s - loss: 0.1623 - acc: 0.9333 - val_loss: 0.0772 - val_acc: 0.9667\n",
      "Epoch 50/200\n",
      "90/90 - 0s - loss: 0.1276 - acc: 0.9444 - val_loss: 0.1776 - val_acc: 0.9000\n",
      "Epoch 51/200\n",
      "90/90 - 0s - loss: 0.1208 - acc: 0.9444 - val_loss: 0.0465 - val_acc: 1.0000\n",
      "Epoch 52/200\n",
      "90/90 - 0s - loss: 0.1505 - acc: 0.9444 - val_loss: 0.0456 - val_acc: 1.0000\n",
      "Epoch 53/200\n",
      "90/90 - 0s - loss: 0.1097 - acc: 0.9444 - val_loss: 0.1402 - val_acc: 0.9333\n",
      "Epoch 54/200\n",
      "90/90 - 0s - loss: 0.1574 - acc: 0.9222 - val_loss: 0.0576 - val_acc: 0.9667\n",
      "Epoch 55/200\n",
      "90/90 - 0s - loss: 0.0944 - acc: 0.9556 - val_loss: 0.0840 - val_acc: 0.9333\n",
      "Epoch 56/200\n",
      "90/90 - 0s - loss: 0.1988 - acc: 0.9222 - val_loss: 0.0656 - val_acc: 0.9667\n",
      "Epoch 57/200\n",
      "90/90 - 0s - loss: 0.1122 - acc: 0.9333 - val_loss: 0.2101 - val_acc: 0.8667\n",
      "Epoch 58/200\n",
      "90/90 - 0s - loss: 0.1235 - acc: 0.9667 - val_loss: 0.0391 - val_acc: 1.0000\n",
      "Epoch 59/200\n",
      "90/90 - 0s - loss: 0.1456 - acc: 0.9333 - val_loss: 0.0381 - val_acc: 1.0000\n",
      "Epoch 60/200\n",
      "90/90 - 0s - loss: 0.1031 - acc: 0.9778 - val_loss: 0.1527 - val_acc: 0.9333\n",
      "Epoch 61/200\n",
      "90/90 - 0s - loss: 0.1258 - acc: 0.9333 - val_loss: 0.0548 - val_acc: 0.9667\n",
      "Epoch 62/200\n",
      "90/90 - 0s - loss: 0.0904 - acc: 0.9667 - val_loss: 0.0340 - val_acc: 1.0000\n",
      "Epoch 63/200\n",
      "90/90 - 0s - loss: 0.1082 - acc: 0.9556 - val_loss: 0.0576 - val_acc: 0.9667\n",
      "Epoch 64/200\n",
      "90/90 - 0s - loss: 0.1090 - acc: 0.9556 - val_loss: 0.1009 - val_acc: 0.9667\n",
      "Epoch 65/200\n",
      "90/90 - 0s - loss: 0.0993 - acc: 0.9556 - val_loss: 0.0393 - val_acc: 1.0000\n",
      "Epoch 66/200\n",
      "90/90 - 0s - loss: 0.1049 - acc: 0.9667 - val_loss: 0.0678 - val_acc: 0.9667\n",
      "Epoch 67/200\n",
      "90/90 - 0s - loss: 0.0895 - acc: 0.9667 - val_loss: 0.0519 - val_acc: 0.9667\n",
      "Epoch 68/200\n",
      "90/90 - 0s - loss: 0.0906 - acc: 0.9667 - val_loss: 0.0735 - val_acc: 0.9667\n",
      "Epoch 69/200\n",
      "90/90 - 0s - loss: 0.0844 - acc: 0.9778 - val_loss: 0.0380 - val_acc: 1.0000\n",
      "Epoch 70/200\n",
      "90/90 - 0s - loss: 0.0865 - acc: 0.9778 - val_loss: 0.0535 - val_acc: 0.9667\n",
      "Epoch 71/200\n",
      "90/90 - 0s - loss: 0.0795 - acc: 0.9556 - val_loss: 0.0620 - val_acc: 0.9667\n",
      "Epoch 72/200\n",
      "90/90 - 0s - loss: 0.0816 - acc: 0.9556 - val_loss: 0.0387 - val_acc: 0.9667\n",
      "Epoch 73/200\n",
      "90/90 - 0s - loss: 0.0778 - acc: 0.9778 - val_loss: 0.0452 - val_acc: 0.9667\n",
      "Epoch 74/200\n",
      "90/90 - 0s - loss: 0.0781 - acc: 0.9667 - val_loss: 0.0723 - val_acc: 0.9667\n",
      "Epoch 75/200\n",
      "90/90 - 0s - loss: 0.0855 - acc: 0.9556 - val_loss: 0.0746 - val_acc: 0.9667\n",
      "Epoch 76/200\n",
      "90/90 - 0s - loss: 0.0780 - acc: 0.9667 - val_loss: 0.0283 - val_acc: 1.0000\n",
      "Epoch 77/200\n",
      "90/90 - 0s - loss: 0.0935 - acc: 0.9667 - val_loss: 0.1017 - val_acc: 0.9667\n",
      "Epoch 78/200\n",
      "90/90 - 0s - loss: 0.1615 - acc: 0.9556 - val_loss: 0.1139 - val_acc: 0.9667\n",
      "Epoch 79/200\n",
      "90/90 - 0s - loss: 0.0840 - acc: 0.9556 - val_loss: 0.0301 - val_acc: 1.0000\n",
      "Epoch 80/200\n",
      "90/90 - 0s - loss: 0.1406 - acc: 0.9333 - val_loss: 0.0268 - val_acc: 1.0000\n",
      "Epoch 81/200\n",
      "90/90 - 0s - loss: 0.0756 - acc: 0.9778 - val_loss: 0.1563 - val_acc: 0.9333\n",
      "Epoch 82/200\n",
      "90/90 - 0s - loss: 0.1495 - acc: 0.9333 - val_loss: 0.1298 - val_acc: 0.9333\n",
      "Epoch 83/200\n",
      "90/90 - 0s - loss: 0.0919 - acc: 0.9667 - val_loss: 0.0274 - val_acc: 1.0000\n",
      "Epoch 84/200\n",
      "90/90 - 0s - loss: 0.1056 - acc: 0.9556 - val_loss: 0.0300 - val_acc: 1.0000\n",
      "Epoch 85/200\n",
      "90/90 - 0s - loss: 0.0792 - acc: 0.9778 - val_loss: 0.0830 - val_acc: 0.9667\n",
      "Epoch 86/200\n",
      "90/90 - 0s - loss: 0.0940 - acc: 0.9444 - val_loss: 0.0782 - val_acc: 0.9667\n",
      "Epoch 87/200\n",
      "90/90 - 0s - loss: 0.0762 - acc: 0.9667 - val_loss: 0.0254 - val_acc: 1.0000\n",
      "Epoch 88/200\n",
      "90/90 - 0s - loss: 0.1023 - acc: 0.9556 - val_loss: 0.0340 - val_acc: 1.0000\n",
      "Epoch 89/200\n",
      "90/90 - 0s - loss: 0.0737 - acc: 0.9778 - val_loss: 0.1123 - val_acc: 0.9667\n",
      "Epoch 90/200\n",
      "90/90 - 0s - loss: 0.0902 - acc: 0.9556 - val_loss: 0.0200 - val_acc: 1.0000\n",
      "Epoch 91/200\n",
      "90/90 - 0s - loss: 0.1709 - acc: 0.9333 - val_loss: 0.0301 - val_acc: 1.0000\n"
     ]
    },
    {
     "name": "stdout",
     "output_type": "stream",
     "text": [
      "Epoch 92/200\n",
      "90/90 - 0s - loss: 0.1041 - acc: 0.9667 - val_loss: 0.2853 - val_acc: 0.8667\n",
      "Epoch 93/200\n",
      "90/90 - 0s - loss: 0.2420 - acc: 0.9111 - val_loss: 0.0374 - val_acc: 1.0000\n",
      "Epoch 94/200\n",
      "90/90 - 0s - loss: 0.1698 - acc: 0.9444 - val_loss: 0.1409 - val_acc: 0.9000\n",
      "Epoch 95/200\n",
      "90/90 - 0s - loss: 0.2417 - acc: 0.9111 - val_loss: 0.0567 - val_acc: 0.9667\n",
      "Epoch 96/200\n",
      "90/90 - 0s - loss: 0.1135 - acc: 0.9556 - val_loss: 0.2384 - val_acc: 0.8667\n",
      "Epoch 97/200\n",
      "90/90 - 0s - loss: 0.1649 - acc: 0.9222 - val_loss: 0.0515 - val_acc: 0.9667\n",
      "Epoch 98/200\n",
      "90/90 - 0s - loss: 0.1093 - acc: 0.9556 - val_loss: 0.0394 - val_acc: 1.0000\n",
      "Epoch 99/200\n",
      "90/90 - 0s - loss: 0.0969 - acc: 0.9556 - val_loss: 0.0981 - val_acc: 0.9667\n",
      "Epoch 100/200\n",
      "90/90 - 0s - loss: 0.0957 - acc: 0.9667 - val_loss: 0.1663 - val_acc: 0.9333\n",
      "Epoch 101/200\n",
      "90/90 - 0s - loss: 0.1269 - acc: 0.9444 - val_loss: 0.0528 - val_acc: 0.9667\n",
      "Epoch 102/200\n",
      "90/90 - 0s - loss: 0.1223 - acc: 0.9444 - val_loss: 0.0421 - val_acc: 1.0000\n",
      "Epoch 103/200\n",
      "90/90 - 0s - loss: 0.1057 - acc: 0.9556 - val_loss: 0.0729 - val_acc: 0.9667\n",
      "Epoch 104/200\n",
      "90/90 - 0s - loss: 0.1029 - acc: 0.9556 - val_loss: 0.1269 - val_acc: 0.9333\n",
      "Epoch 105/200\n",
      "90/90 - 0s - loss: 0.1027 - acc: 0.9444 - val_loss: 0.0403 - val_acc: 1.0000\n",
      "Epoch 106/200\n",
      "90/90 - 0s - loss: 0.0988 - acc: 0.9556 - val_loss: 0.0358 - val_acc: 1.0000\n",
      "Epoch 107/200\n",
      "90/90 - 0s - loss: 0.0758 - acc: 0.9778 - val_loss: 0.1549 - val_acc: 0.9333\n",
      "Epoch 108/200\n",
      "90/90 - 0s - loss: 0.1359 - acc: 0.9333 - val_loss: 0.0423 - val_acc: 1.0000\n",
      "Epoch 109/200\n",
      "90/90 - 0s - loss: 0.0864 - acc: 0.9556 - val_loss: 0.0772 - val_acc: 0.9333\n",
      "Epoch 110/200\n",
      "90/90 - 0s - loss: 0.2030 - acc: 0.9111 - val_loss: 0.0289 - val_acc: 1.0000\n",
      "Epoch 111/200\n",
      "90/90 - 0s - loss: 0.0664 - acc: 0.9778 - val_loss: 0.3147 - val_acc: 0.8667\n",
      "Epoch 112/200\n",
      "90/90 - 0s - loss: 0.2791 - acc: 0.8889 - val_loss: 0.0634 - val_acc: 0.9667\n",
      "Epoch 113/200\n",
      "90/90 - 0s - loss: 0.1342 - acc: 0.9444 - val_loss: 0.1963 - val_acc: 0.8667\n",
      "Epoch 114/200\n",
      "90/90 - 0s - loss: 0.3292 - acc: 0.8778 - val_loss: 0.0804 - val_acc: 0.9667\n",
      "Epoch 115/200\n",
      "90/90 - 0s - loss: 0.1537 - acc: 0.9556 - val_loss: 0.0840 - val_acc: 0.9667\n",
      "Epoch 116/200\n",
      "90/90 - 0s - loss: 0.1182 - acc: 0.9556 - val_loss: 0.2296 - val_acc: 0.8667\n",
      "Epoch 117/200\n",
      "90/90 - 0s - loss: 0.1537 - acc: 0.9333 - val_loss: 0.0635 - val_acc: 0.9667\n",
      "Epoch 118/200\n",
      "90/90 - 0s - loss: 0.1001 - acc: 0.9556 - val_loss: 0.0475 - val_acc: 1.0000\n",
      "Epoch 119/200\n",
      "90/90 - 0s - loss: 0.1154 - acc: 0.9444 - val_loss: 0.0462 - val_acc: 1.0000\n",
      "Epoch 120/200\n",
      "90/90 - 0s - loss: 0.1090 - acc: 0.9667 - val_loss: 0.0610 - val_acc: 0.9667\n",
      "Epoch 121/200\n",
      "90/90 - 0s - loss: 0.0925 - acc: 0.9667 - val_loss: 0.0749 - val_acc: 0.9667\n",
      "Epoch 122/200\n",
      "90/90 - 0s - loss: 0.0884 - acc: 0.9667 - val_loss: 0.0635 - val_acc: 0.9667\n",
      "Epoch 123/200\n",
      "90/90 - 0s - loss: 0.0864 - acc: 0.9667 - val_loss: 0.0475 - val_acc: 0.9667\n",
      "Epoch 124/200\n",
      "90/90 - 0s - loss: 0.0818 - acc: 0.9667 - val_loss: 0.0514 - val_acc: 0.9667\n",
      "Epoch 125/200\n",
      "90/90 - 0s - loss: 0.0793 - acc: 0.9667 - val_loss: 0.0527 - val_acc: 0.9667\n",
      "Epoch 126/200\n",
      "90/90 - 0s - loss: 0.0771 - acc: 0.9667 - val_loss: 0.0647 - val_acc: 0.9667\n",
      "Epoch 127/200\n",
      "90/90 - 0s - loss: 0.0782 - acc: 0.9778 - val_loss: 0.0764 - val_acc: 0.9667\n",
      "Epoch 128/200\n",
      "90/90 - 0s - loss: 0.0770 - acc: 0.9778 - val_loss: 0.0283 - val_acc: 1.0000\n",
      "Epoch 129/200\n",
      "90/90 - 0s - loss: 0.1180 - acc: 0.9667 - val_loss: 0.0234 - val_acc: 1.0000\n",
      "Epoch 130/200\n",
      "90/90 - 0s - loss: 0.1092 - acc: 0.9667 - val_loss: 0.0649 - val_acc: 0.9667\n",
      "Epoch 131/200\n",
      "90/90 - 0s - loss: 0.0792 - acc: 0.9667 - val_loss: 0.0719 - val_acc: 0.9667\n",
      "Epoch 132/200\n",
      "90/90 - 0s - loss: 0.0736 - acc: 0.9778 - val_loss: 0.0328 - val_acc: 1.0000\n",
      "Epoch 133/200\n",
      "90/90 - 0s - loss: 0.0753 - acc: 0.9778 - val_loss: 0.0289 - val_acc: 1.0000\n",
      "Epoch 134/200\n",
      "90/90 - 0s - loss: 0.0754 - acc: 0.9778 - val_loss: 0.0498 - val_acc: 0.9667\n",
      "Epoch 135/200\n",
      "90/90 - 0s - loss: 0.0704 - acc: 0.9778 - val_loss: 0.0392 - val_acc: 0.9667\n",
      "Epoch 136/200\n",
      "90/90 - 0s - loss: 0.0677 - acc: 0.9778 - val_loss: 0.0245 - val_acc: 1.0000\n",
      "Epoch 137/200\n",
      "90/90 - 0s - loss: 0.0766 - acc: 0.9778 - val_loss: 0.0292 - val_acc: 1.0000\n",
      "Epoch 138/200\n",
      "90/90 - 0s - loss: 0.0691 - acc: 0.9778 - val_loss: 0.0465 - val_acc: 0.9667\n",
      "Epoch 139/200\n",
      "90/90 - 0s - loss: 0.0688 - acc: 0.9667 - val_loss: 0.0463 - val_acc: 0.9667\n",
      "Epoch 140/200\n",
      "90/90 - 0s - loss: 0.0640 - acc: 0.9778 - val_loss: 0.0260 - val_acc: 1.0000\n",
      "Epoch 141/200\n",
      "90/90 - 0s - loss: 0.0768 - acc: 0.9778 - val_loss: 0.0349 - val_acc: 0.9667\n",
      "Epoch 142/200\n",
      "90/90 - 0s - loss: 0.0593 - acc: 0.9889 - val_loss: 0.1481 - val_acc: 0.9667\n",
      "Epoch 143/200\n",
      "90/90 - 0s - loss: 0.1627 - acc: 0.9444 - val_loss: 0.0174 - val_acc: 1.0000\n",
      "Epoch 144/200\n",
      "90/90 - 0s - loss: 0.0905 - acc: 0.9667 - val_loss: 0.0605 - val_acc: 0.9667\n",
      "Epoch 145/200\n",
      "90/90 - 0s - loss: 0.2150 - acc: 0.9222 - val_loss: 0.0186 - val_acc: 1.0000\n",
      "Epoch 146/200\n",
      "90/90 - 0s - loss: 0.0865 - acc: 0.9556 - val_loss: 0.1622 - val_acc: 0.9333\n",
      "Epoch 147/200\n",
      "90/90 - 0s - loss: 0.1301 - acc: 0.9333 - val_loss: 0.0707 - val_acc: 0.9667\n",
      "Epoch 148/200\n",
      "90/90 - 0s - loss: 0.0704 - acc: 0.9778 - val_loss: 0.0214 - val_acc: 1.0000\n",
      "Epoch 149/200\n",
      "90/90 - 0s - loss: 0.1259 - acc: 0.9444 - val_loss: 0.0211 - val_acc: 1.0000\n",
      "Epoch 150/200\n",
      "90/90 - 0s - loss: 0.0931 - acc: 0.9667 - val_loss: 0.0521 - val_acc: 0.9667\n",
      "Epoch 151/200\n",
      "90/90 - 0s - loss: 0.0702 - acc: 0.9778 - val_loss: 0.0927 - val_acc: 0.9667\n",
      "Epoch 152/200\n",
      "90/90 - 0s - loss: 0.0900 - acc: 0.9556 - val_loss: 0.0532 - val_acc: 0.9667\n",
      "Epoch 153/200\n",
      "90/90 - 0s - loss: 0.0691 - acc: 0.9778 - val_loss: 0.0214 - val_acc: 1.0000\n",
      "Epoch 154/200\n",
      "90/90 - 0s - loss: 0.0903 - acc: 0.9667 - val_loss: 0.0341 - val_acc: 1.0000\n",
      "Epoch 155/200\n",
      "90/90 - 0s - loss: 0.0695 - acc: 0.9889 - val_loss: 0.1889 - val_acc: 0.9333\n",
      "Epoch 156/200\n",
      "90/90 - 0s - loss: 0.1492 - acc: 0.9333 - val_loss: 0.0686 - val_acc: 0.9667\n",
      "Epoch 157/200\n",
      "90/90 - 0s - loss: 0.0722 - acc: 0.9778 - val_loss: 0.0359 - val_acc: 0.9667\n",
      "Epoch 158/200\n",
      "90/90 - 0s - loss: 0.0683 - acc: 0.9778 - val_loss: 0.0224 - val_acc: 1.0000\n",
      "Epoch 159/200\n",
      "90/90 - 0s - loss: 0.0828 - acc: 0.9667 - val_loss: 0.0186 - val_acc: 1.0000\n",
      "Epoch 160/200\n",
      "90/90 - 0s - loss: 0.0832 - acc: 0.9667 - val_loss: 0.0337 - val_acc: 0.9667\n",
      "Epoch 161/200\n",
      "90/90 - 0s - loss: 0.0688 - acc: 0.9778 - val_loss: 0.0352 - val_acc: 0.9667\n",
      "Epoch 162/200\n",
      "90/90 - 0s - loss: 0.0691 - acc: 0.9778 - val_loss: 0.0231 - val_acc: 1.0000\n",
      "Epoch 163/200\n",
      "90/90 - 0s - loss: 0.0781 - acc: 0.9778 - val_loss: 0.0582 - val_acc: 0.9667\n",
      "Epoch 164/200\n",
      "90/90 - 0s - loss: 0.0657 - acc: 0.9778 - val_loss: 0.0221 - val_acc: 1.0000\n",
      "Epoch 165/200\n",
      "90/90 - 0s - loss: 0.0718 - acc: 0.9778 - val_loss: 0.0297 - val_acc: 1.0000\n",
      "Epoch 166/200\n",
      "90/90 - 0s - loss: 0.0592 - acc: 0.9889 - val_loss: 0.0944 - val_acc: 0.9667\n",
      "Epoch 167/200\n",
      "90/90 - 0s - loss: 0.0790 - acc: 0.9444 - val_loss: 0.0472 - val_acc: 0.9667\n",
      "Epoch 168/200\n",
      "90/90 - 0s - loss: 0.0641 - acc: 0.9889 - val_loss: 0.0356 - val_acc: 0.9667\n",
      "Epoch 169/200\n",
      "90/90 - 0s - loss: 0.0668 - acc: 0.9778 - val_loss: 0.0802 - val_acc: 0.9667\n",
      "Epoch 170/200\n",
      "90/90 - 0s - loss: 0.0675 - acc: 0.9778 - val_loss: 0.0285 - val_acc: 1.0000\n",
      "Epoch 171/200\n",
      "90/90 - 0s - loss: 0.0714 - acc: 0.9667 - val_loss: 0.0378 - val_acc: 0.9667\n",
      "Epoch 172/200\n",
      "90/90 - 0s - loss: 0.0636 - acc: 0.9778 - val_loss: 0.1011 - val_acc: 0.9667\n",
      "Epoch 173/200\n",
      "90/90 - 0s - loss: 0.0706 - acc: 0.9667 - val_loss: 0.0238 - val_acc: 1.0000\n",
      "Epoch 174/200\n",
      "90/90 - 0s - loss: 0.0773 - acc: 0.9667 - val_loss: 0.0153 - val_acc: 1.0000\n",
      "Epoch 175/200\n",
      "90/90 - 0s - loss: 0.0743 - acc: 0.9667 - val_loss: 0.0708 - val_acc: 0.9667\n",
      "Epoch 176/200\n",
      "90/90 - 0s - loss: 0.0936 - acc: 0.9667 - val_loss: 0.0576 - val_acc: 0.9667\n",
      "Epoch 177/200\n",
      "90/90 - 0s - loss: 0.0740 - acc: 0.9667 - val_loss: 0.0251 - val_acc: 1.0000\n",
      "Epoch 178/200\n",
      "90/90 - 0s - loss: 0.1592 - acc: 0.9222 - val_loss: 0.0221 - val_acc: 1.0000\n",
      "Epoch 179/200\n",
      "90/90 - 0s - loss: 0.1186 - acc: 0.9556 - val_loss: 0.0847 - val_acc: 0.9667\n",
      "Epoch 180/200\n",
      "90/90 - 0s - loss: 0.0848 - acc: 0.9333 - val_loss: 0.1379 - val_acc: 0.9667\n",
      "Epoch 181/200\n",
      "90/90 - 0s - loss: 0.1018 - acc: 0.9444 - val_loss: 0.0357 - val_acc: 1.0000\n",
      "Epoch 182/200\n"
     ]
    },
    {
     "name": "stdout",
     "output_type": "stream",
     "text": [
      "90/90 - 0s - loss: 0.0926 - acc: 0.9667 - val_loss: 0.0350 - val_acc: 1.0000\n",
      "Epoch 183/200\n",
      "90/90 - 0s - loss: 0.0634 - acc: 0.9778 - val_loss: 0.1858 - val_acc: 0.9333\n",
      "Epoch 184/200\n",
      "90/90 - 0s - loss: 0.1535 - acc: 0.9333 - val_loss: 0.0687 - val_acc: 0.9667\n",
      "Epoch 185/200\n",
      "90/90 - 0s - loss: 0.0807 - acc: 0.9778 - val_loss: 0.0269 - val_acc: 1.0000\n",
      "Epoch 186/200\n",
      "90/90 - 0s - loss: 0.1069 - acc: 0.9444 - val_loss: 0.0275 - val_acc: 1.0000\n",
      "Epoch 187/200\n",
      "90/90 - 0s - loss: 0.0770 - acc: 0.9778 - val_loss: 0.0868 - val_acc: 0.9667\n",
      "Epoch 188/200\n",
      "90/90 - 0s - loss: 0.0849 - acc: 0.9778 - val_loss: 0.0954 - val_acc: 0.9667\n",
      "Epoch 189/200\n",
      "90/90 - 0s - loss: 0.0884 - acc: 0.9778 - val_loss: 0.0377 - val_acc: 1.0000\n",
      "Epoch 190/200\n",
      "90/90 - 0s - loss: 0.0886 - acc: 0.9444 - val_loss: 0.0397 - val_acc: 1.0000\n",
      "Epoch 191/200\n",
      "90/90 - 0s - loss: 0.1351 - acc: 0.9333 - val_loss: 0.0259 - val_acc: 1.0000\n",
      "Epoch 192/200\n",
      "90/90 - 0s - loss: 0.0756 - acc: 0.9778 - val_loss: 0.0979 - val_acc: 0.9667\n",
      "Epoch 193/200\n",
      "90/90 - 0s - loss: 0.0899 - acc: 0.9444 - val_loss: 0.0651 - val_acc: 0.9667\n",
      "Epoch 194/200\n",
      "90/90 - 0s - loss: 0.0760 - acc: 0.9667 - val_loss: 0.0215 - val_acc: 1.0000\n",
      "Epoch 195/200\n",
      "90/90 - 0s - loss: 0.0813 - acc: 0.9667 - val_loss: 0.0207 - val_acc: 1.0000\n",
      "Epoch 196/200\n",
      "90/90 - 0s - loss: 0.0791 - acc: 0.9667 - val_loss: 0.0371 - val_acc: 0.9667\n",
      "Epoch 197/200\n",
      "90/90 - 0s - loss: 0.0630 - acc: 0.9778 - val_loss: 0.0622 - val_acc: 0.9667\n",
      "Epoch 198/200\n",
      "90/90 - 0s - loss: 0.0737 - acc: 0.9778 - val_loss: 0.0713 - val_acc: 0.9667\n",
      "Epoch 199/200\n",
      "90/90 - 0s - loss: 0.0642 - acc: 0.9778 - val_loss: 0.0240 - val_acc: 1.0000\n",
      "Epoch 200/200\n",
      "90/90 - 0s - loss: 0.0724 - acc: 0.9778 - val_loss: 0.0176 - val_acc: 1.0000\n"
     ]
    }
   ],
   "source": [
    "#entrenamos el modelo \n",
    "history = model.fit(\n",
    "    X_train, \n",
    "    y_train, \n",
    "    epochs=200, \n",
    "    validation_split=0.25, \n",
    "    batch_size=40, \n",
    "    verbose=2\n",
    ")"
   ]
  },
  {
   "cell_type": "code",
   "execution_count": 35,
   "metadata": {},
   "outputs": [
    {
     "data": {
      "text/plain": [
       "[0.00785722304135561, 1.0]"
      ]
     },
     "execution_count": 35,
     "metadata": {},
     "output_type": "execute_result"
    }
   ],
   "source": [
    "# Evaluamos el modelo \n",
    "model.evaluate(X_test, y_test, verbose=2)"
   ]
  },
  {
   "cell_type": "code",
   "execution_count": 36,
   "metadata": {},
   "outputs": [],
   "source": [
    "#cargar las  librerias para la regularización \n",
    "from tensorflow.keras.layers import Dropout\n",
    "from tensorflow.keras.regularizers import l2"
   ]
  },
  {
   "cell_type": "code",
   "execution_count": 37,
   "metadata": {},
   "outputs": [],
   "source": [
    "#crear el modelo regularizdor\n",
    "def create_regularized_model(factor, rate):\n",
    "    model = Sequential([\n",
    "        Dense(64, kernel_regularizer=l2(factor), activation=\"relu\", input_shape=(4,)),\n",
    "        Dropout(rate),\n",
    "        Dense(128, kernel_regularizer=l2(factor), activation=\"relu\"),\n",
    "        Dropout(rate),\n",
    "        Dense(128, kernel_regularizer=l2(factor), activation=\"relu\"),\n",
    "        Dropout(rate),\n",
    "        Dense(128, kernel_regularizer=l2(factor), activation=\"relu\"),\n",
    "        Dropout(rate),\n",
    "        Dense(64, kernel_regularizer=l2(factor), activation=\"relu\"),\n",
    "        Dropout(rate),\n",
    "        Dense(64, kernel_regularizer=l2(factor), activation=\"relu\"),\n",
    "        Dropout(rate),\n",
    "        Dense(64, kernel_regularizer=l2(factor), activation=\"relu\"),\n",
    "        Dropout(rate),\n",
    "        Dense(3, activation='softmax')\n",
    "    ])\n",
    "    return model"
   ]
  },
  {
   "cell_type": "code",
   "execution_count": 38,
   "metadata": {},
   "outputs": [
    {
     "name": "stdout",
     "output_type": "stream",
     "text": [
      "Model: \"sequential_3\"\n",
      "_________________________________________________________________\n",
      "Layer (type)                 Output Shape              Param #   \n",
      "=================================================================\n",
      "dense_24 (Dense)             (None, 64)                320       \n",
      "_________________________________________________________________\n",
      "dropout_7 (Dropout)          (None, 64)                0         \n",
      "_________________________________________________________________\n",
      "dense_25 (Dense)             (None, 128)               8320      \n",
      "_________________________________________________________________\n",
      "dropout_8 (Dropout)          (None, 128)               0         \n",
      "_________________________________________________________________\n",
      "dense_26 (Dense)             (None, 128)               16512     \n",
      "_________________________________________________________________\n",
      "dropout_9 (Dropout)          (None, 128)               0         \n",
      "_________________________________________________________________\n",
      "dense_27 (Dense)             (None, 128)               16512     \n",
      "_________________________________________________________________\n",
      "dropout_10 (Dropout)         (None, 128)               0         \n",
      "_________________________________________________________________\n",
      "dense_28 (Dense)             (None, 64)                8256      \n",
      "_________________________________________________________________\n",
      "dropout_11 (Dropout)         (None, 64)                0         \n",
      "_________________________________________________________________\n",
      "dense_29 (Dense)             (None, 64)                4160      \n",
      "_________________________________________________________________\n",
      "dropout_12 (Dropout)         (None, 64)                0         \n",
      "_________________________________________________________________\n",
      "dense_30 (Dense)             (None, 64)                4160      \n",
      "_________________________________________________________________\n",
      "dropout_13 (Dropout)         (None, 64)                0         \n",
      "_________________________________________________________________\n",
      "dense_31 (Dense)             (None, 3)                 195       \n",
      "=================================================================\n",
      "Total params: 58,435\n",
      "Trainable params: 58,435\n",
      "Non-trainable params: 0\n",
      "_________________________________________________________________\n"
     ]
    }
   ],
   "source": [
    "model = create_regularized_model(1e-5, 0.3)\n",
    "model.summary()"
   ]
  },
  {
   "cell_type": "code",
   "execution_count": 39,
   "metadata": {},
   "outputs": [
    {
     "name": "stdout",
     "output_type": "stream",
     "text": [
      "Train on 90 samples, validate on 30 samples\n",
      "Epoch 1/200\n",
      "90/90 - 0s - loss: 1.2361 - acc: 0.4111 - val_loss: 1.1060 - val_acc: 0.0000e+00\n",
      "Epoch 2/200\n",
      "90/90 - 0s - loss: 1.1296 - acc: 0.3444 - val_loss: 1.1127 - val_acc: 0.2333\n",
      "Epoch 3/200\n",
      "90/90 - 0s - loss: 1.0705 - acc: 0.4222 - val_loss: 1.1210 - val_acc: 0.2333\n",
      "Epoch 4/200\n",
      "90/90 - 0s - loss: 1.1496 - acc: 0.3778 - val_loss: 1.1211 - val_acc: 0.2333\n",
      "Epoch 5/200\n",
      "90/90 - 0s - loss: 1.0899 - acc: 0.4000 - val_loss: 1.1158 - val_acc: 0.2333\n",
      "Epoch 6/200\n",
      "90/90 - 0s - loss: 1.1457 - acc: 0.3333 - val_loss: 1.1092 - val_acc: 0.2333\n",
      "Epoch 7/200\n",
      "90/90 - 0s - loss: 1.1563 - acc: 0.3222 - val_loss: 1.1007 - val_acc: 0.2333\n",
      "Epoch 8/200\n",
      "90/90 - 0s - loss: 1.1187 - acc: 0.4111 - val_loss: 1.0959 - val_acc: 0.2333\n",
      "Epoch 9/200\n",
      "90/90 - 0s - loss: 1.1114 - acc: 0.3889 - val_loss: 1.0911 - val_acc: 0.3667\n",
      "Epoch 10/200\n",
      "90/90 - 0s - loss: 1.0865 - acc: 0.3778 - val_loss: 1.0857 - val_acc: 0.5000\n",
      "Epoch 11/200\n",
      "90/90 - 0s - loss: 1.1587 - acc: 0.3556 - val_loss: 1.0829 - val_acc: 0.4000\n",
      "Epoch 12/200\n",
      "90/90 - 0s - loss: 1.1276 - acc: 0.3778 - val_loss: 1.0859 - val_acc: 0.2667\n",
      "Epoch 13/200\n",
      "90/90 - 0s - loss: 1.0882 - acc: 0.4000 - val_loss: 1.0902 - val_acc: 0.2333\n",
      "Epoch 14/200\n",
      "90/90 - 0s - loss: 1.0935 - acc: 0.3222 - val_loss: 1.0904 - val_acc: 0.2333\n",
      "Epoch 15/200\n",
      "90/90 - 0s - loss: 1.0783 - acc: 0.3667 - val_loss: 1.0885 - val_acc: 0.2333\n",
      "Epoch 16/200\n",
      "90/90 - 0s - loss: 1.0836 - acc: 0.2778 - val_loss: 1.0836 - val_acc: 0.2333\n",
      "Epoch 17/200\n",
      "90/90 - 0s - loss: 1.0657 - acc: 0.3444 - val_loss: 1.0806 - val_acc: 0.2333\n",
      "Epoch 18/200\n",
      "90/90 - 0s - loss: 1.0492 - acc: 0.4333 - val_loss: 1.0724 - val_acc: 0.2333\n",
      "Epoch 19/200\n",
      "90/90 - 0s - loss: 1.0455 - acc: 0.4111 - val_loss: 1.0634 - val_acc: 0.2333\n",
      "Epoch 20/200\n",
      "90/90 - 0s - loss: 1.0614 - acc: 0.3889 - val_loss: 1.0507 - val_acc: 0.2333\n",
      "Epoch 21/200\n",
      "90/90 - 0s - loss: 1.0373 - acc: 0.3889 - val_loss: 1.0373 - val_acc: 0.2333\n",
      "Epoch 22/200\n",
      "90/90 - 0s - loss: 1.0571 - acc: 0.4000 - val_loss: 1.0230 - val_acc: 0.2333\n",
      "Epoch 23/200\n",
      "90/90 - 0s - loss: 1.0316 - acc: 0.3333 - val_loss: 1.0124 - val_acc: 0.2333\n",
      "Epoch 24/200\n",
      "90/90 - 0s - loss: 1.0040 - acc: 0.4222 - val_loss: 1.0029 - val_acc: 0.2333\n",
      "Epoch 25/200\n",
      "90/90 - 0s - loss: 1.0274 - acc: 0.4111 - val_loss: 0.9907 - val_acc: 0.2333\n",
      "Epoch 26/200\n",
      "90/90 - 0s - loss: 1.0193 - acc: 0.4333 - val_loss: 0.9780 - val_acc: 0.2333\n",
      "Epoch 27/200\n",
      "90/90 - 0s - loss: 1.0144 - acc: 0.3889 - val_loss: 0.9670 - val_acc: 0.6333\n",
      "Epoch 28/200\n",
      "90/90 - 0s - loss: 1.0080 - acc: 0.3222 - val_loss: 0.9511 - val_acc: 0.6667\n",
      "Epoch 29/200\n",
      "90/90 - 0s - loss: 0.9673 - acc: 0.4667 - val_loss: 0.9379 - val_acc: 0.6667\n",
      "Epoch 30/200\n",
      "90/90 - 0s - loss: 0.9462 - acc: 0.4778 - val_loss: 0.9199 - val_acc: 0.6667\n",
      "Epoch 31/200\n",
      "90/90 - 0s - loss: 0.9580 - acc: 0.3889 - val_loss: 0.8991 - val_acc: 0.6667\n",
      "Epoch 32/200\n",
      "90/90 - 0s - loss: 0.9466 - acc: 0.4333 - val_loss: 0.8756 - val_acc: 0.6667\n",
      "Epoch 33/200\n",
      "90/90 - 0s - loss: 0.9268 - acc: 0.4667 - val_loss: 0.8485 - val_acc: 0.9333\n",
      "Epoch 34/200\n",
      "90/90 - 0s - loss: 0.9283 - acc: 0.4222 - val_loss: 0.8353 - val_acc: 0.9667\n",
      "Epoch 35/200\n",
      "90/90 - 0s - loss: 0.8772 - acc: 0.4111 - val_loss: 0.8260 - val_acc: 0.9333\n",
      "Epoch 36/200\n",
      "90/90 - 0s - loss: 0.8714 - acc: 0.5556 - val_loss: 0.8191 - val_acc: 0.7000\n",
      "Epoch 37/200\n",
      "90/90 - 0s - loss: 0.8846 - acc: 0.5333 - val_loss: 0.8176 - val_acc: 0.6667\n",
      "Epoch 38/200\n",
      "90/90 - 0s - loss: 0.8476 - acc: 0.5667 - val_loss: 0.8051 - val_acc: 0.6667\n",
      "Epoch 39/200\n",
      "90/90 - 0s - loss: 0.8351 - acc: 0.5556 - val_loss: 0.7935 - val_acc: 0.6667\n",
      "Epoch 40/200\n",
      "90/90 - 0s - loss: 0.7582 - acc: 0.7556 - val_loss: 0.7756 - val_acc: 0.8333\n",
      "Epoch 41/200\n",
      "90/90 - 0s - loss: 0.7879 - acc: 0.6333 - val_loss: 0.7661 - val_acc: 0.6667\n",
      "Epoch 42/200\n",
      "90/90 - 0s - loss: 0.8124 - acc: 0.6556 - val_loss: 0.7530 - val_acc: 0.6667\n",
      "Epoch 43/200\n",
      "90/90 - 0s - loss: 0.8398 - acc: 0.6111 - val_loss: 0.7265 - val_acc: 1.0000\n",
      "Epoch 44/200\n",
      "90/90 - 0s - loss: 0.8679 - acc: 0.5889 - val_loss: 0.7052 - val_acc: 0.9667\n",
      "Epoch 45/200\n",
      "90/90 - 0s - loss: 0.7967 - acc: 0.6556 - val_loss: 0.6839 - val_acc: 0.9333\n",
      "Epoch 46/200\n",
      "90/90 - 0s - loss: 0.7758 - acc: 0.6556 - val_loss: 0.6602 - val_acc: 0.9000\n",
      "Epoch 47/200\n",
      "90/90 - 0s - loss: 0.7406 - acc: 0.7333 - val_loss: 0.6326 - val_acc: 0.9000\n",
      "Epoch 48/200\n",
      "90/90 - 0s - loss: 0.7489 - acc: 0.6667 - val_loss: 0.6089 - val_acc: 1.0000\n",
      "Epoch 49/200\n",
      "90/90 - 0s - loss: 0.7026 - acc: 0.7000 - val_loss: 0.5714 - val_acc: 1.0000\n",
      "Epoch 50/200\n",
      "90/90 - 0s - loss: 0.6909 - acc: 0.7000 - val_loss: 0.5190 - val_acc: 0.8667\n",
      "Epoch 51/200\n",
      "90/90 - 0s - loss: 0.6996 - acc: 0.7222 - val_loss: 0.4699 - val_acc: 0.7667\n",
      "Epoch 52/200\n",
      "90/90 - 0s - loss: 0.6349 - acc: 0.6556 - val_loss: 0.4312 - val_acc: 0.7667\n",
      "Epoch 53/200\n",
      "90/90 - 0s - loss: 0.6443 - acc: 0.7000 - val_loss: 0.4039 - val_acc: 0.9000\n",
      "Epoch 54/200\n",
      "90/90 - 0s - loss: 0.6964 - acc: 0.6444 - val_loss: 0.3918 - val_acc: 0.9333\n",
      "Epoch 55/200\n",
      "90/90 - 0s - loss: 0.6070 - acc: 0.6444 - val_loss: 0.3822 - val_acc: 0.9333\n",
      "Epoch 56/200\n",
      "90/90 - 0s - loss: 0.6343 - acc: 0.6222 - val_loss: 0.3766 - val_acc: 0.9667\n",
      "Epoch 57/200\n",
      "90/90 - 0s - loss: 0.5782 - acc: 0.6889 - val_loss: 0.3702 - val_acc: 0.9000\n",
      "Epoch 58/200\n",
      "90/90 - 0s - loss: 0.6358 - acc: 0.6000 - val_loss: 0.3747 - val_acc: 0.9667\n",
      "Epoch 59/200\n",
      "90/90 - 0s - loss: 0.6122 - acc: 0.6333 - val_loss: 0.3886 - val_acc: 0.9333\n",
      "Epoch 60/200\n",
      "90/90 - 0s - loss: 0.5297 - acc: 0.7000 - val_loss: 0.3969 - val_acc: 0.6667\n",
      "Epoch 61/200\n",
      "90/90 - 0s - loss: 0.5101 - acc: 0.7444 - val_loss: 0.4079 - val_acc: 0.6667\n",
      "Epoch 62/200\n",
      "90/90 - 0s - loss: 0.5549 - acc: 0.6556 - val_loss: 0.4044 - val_acc: 0.6667\n",
      "Epoch 63/200\n",
      "90/90 - 0s - loss: 0.5586 - acc: 0.7444 - val_loss: 0.3963 - val_acc: 0.6667\n",
      "Epoch 64/200\n",
      "90/90 - 0s - loss: 0.5274 - acc: 0.7222 - val_loss: 0.3805 - val_acc: 0.9333\n",
      "Epoch 65/200\n",
      "90/90 - 0s - loss: 0.5825 - acc: 0.7000 - val_loss: 0.3719 - val_acc: 1.0000\n",
      "Epoch 66/200\n",
      "90/90 - 0s - loss: 0.5080 - acc: 0.7556 - val_loss: 0.3622 - val_acc: 0.8667\n",
      "Epoch 67/200\n",
      "90/90 - 0s - loss: 0.4790 - acc: 0.7778 - val_loss: 0.3523 - val_acc: 0.7667\n",
      "Epoch 68/200\n",
      "90/90 - 0s - loss: 0.5643 - acc: 0.6556 - val_loss: 0.3526 - val_acc: 0.7667\n",
      "Epoch 69/200\n",
      "90/90 - 0s - loss: 0.4866 - acc: 0.7000 - val_loss: 0.3600 - val_acc: 0.8333\n",
      "Epoch 70/200\n",
      "90/90 - 0s - loss: 0.5115 - acc: 0.7556 - val_loss: 0.3678 - val_acc: 1.0000\n",
      "Epoch 71/200\n",
      "90/90 - 0s - loss: 0.5689 - acc: 0.6667 - val_loss: 0.3684 - val_acc: 1.0000\n",
      "Epoch 72/200\n",
      "90/90 - 0s - loss: 0.4978 - acc: 0.7222 - val_loss: 0.3638 - val_acc: 1.0000\n",
      "Epoch 73/200\n",
      "90/90 - 0s - loss: 0.5401 - acc: 0.6889 - val_loss: 0.3573 - val_acc: 1.0000\n",
      "Epoch 74/200\n",
      "90/90 - 0s - loss: 0.4930 - acc: 0.7444 - val_loss: 0.3596 - val_acc: 1.0000\n",
      "Epoch 75/200\n",
      "90/90 - 0s - loss: 0.4929 - acc: 0.7778 - val_loss: 0.3627 - val_acc: 1.0000\n",
      "Epoch 76/200\n",
      "90/90 - 0s - loss: 0.5269 - acc: 0.7556 - val_loss: 0.3626 - val_acc: 1.0000\n",
      "Epoch 77/200\n",
      "90/90 - 0s - loss: 0.5036 - acc: 0.7222 - val_loss: 0.3615 - val_acc: 1.0000\n",
      "Epoch 78/200\n",
      "90/90 - 0s - loss: 0.4649 - acc: 0.7333 - val_loss: 0.3590 - val_acc: 1.0000\n",
      "Epoch 79/200\n",
      "90/90 - 0s - loss: 0.4793 - acc: 0.7556 - val_loss: 0.3532 - val_acc: 0.9000\n",
      "Epoch 80/200\n",
      "90/90 - 0s - loss: 0.4543 - acc: 0.8000 - val_loss: 0.3449 - val_acc: 0.8333\n",
      "Epoch 81/200\n",
      "90/90 - 0s - loss: 0.4915 - acc: 0.7000 - val_loss: 0.3399 - val_acc: 0.8333\n",
      "Epoch 82/200\n",
      "90/90 - 0s - loss: 0.4948 - acc: 0.7000 - val_loss: 0.3374 - val_acc: 0.8333\n",
      "Epoch 83/200\n",
      "90/90 - 0s - loss: 0.4912 - acc: 0.7222 - val_loss: 0.3386 - val_acc: 0.8333\n",
      "Epoch 84/200\n",
      "90/90 - 0s - loss: 0.4743 - acc: 0.7222 - val_loss: 0.3446 - val_acc: 0.8667\n",
      "Epoch 85/200\n",
      "90/90 - 0s - loss: 0.5389 - acc: 0.7222 - val_loss: 0.3561 - val_acc: 1.0000\n",
      "Epoch 86/200\n",
      "90/90 - 0s - loss: 0.5327 - acc: 0.6778 - val_loss: 0.3686 - val_acc: 0.9333\n",
      "Epoch 87/200\n",
      "90/90 - 0s - loss: 0.5217 - acc: 0.6889 - val_loss: 0.3803 - val_acc: 0.7000\n",
      "Epoch 88/200\n",
      "90/90 - 0s - loss: 0.5014 - acc: 0.7222 - val_loss: 0.3836 - val_acc: 0.7000\n",
      "Epoch 89/200\n",
      "90/90 - 0s - loss: 0.4906 - acc: 0.7000 - val_loss: 0.3788 - val_acc: 0.7000\n",
      "Epoch 90/200\n",
      "90/90 - 0s - loss: 0.4654 - acc: 0.7667 - val_loss: 0.3715 - val_acc: 0.7667\n",
      "Epoch 91/200\n",
      "90/90 - 0s - loss: 0.5163 - acc: 0.7556 - val_loss: 0.3592 - val_acc: 0.9667\n"
     ]
    },
    {
     "name": "stdout",
     "output_type": "stream",
     "text": [
      "Epoch 92/200\n",
      "90/90 - 0s - loss: 0.4476 - acc: 0.7667 - val_loss: 0.3446 - val_acc: 1.0000\n",
      "Epoch 93/200\n",
      "90/90 - 0s - loss: 0.4562 - acc: 0.7444 - val_loss: 0.3388 - val_acc: 0.9667\n",
      "Epoch 94/200\n",
      "90/90 - 0s - loss: 0.4917 - acc: 0.8000 - val_loss: 0.3393 - val_acc: 1.0000\n",
      "Epoch 95/200\n",
      "90/90 - 0s - loss: 0.4848 - acc: 0.7444 - val_loss: 0.3447 - val_acc: 1.0000\n",
      "Epoch 96/200\n",
      "90/90 - 0s - loss: 0.4895 - acc: 0.7556 - val_loss: 0.3556 - val_acc: 0.9000\n",
      "Epoch 97/200\n",
      "90/90 - 0s - loss: 0.4871 - acc: 0.7667 - val_loss: 0.3673 - val_acc: 0.7000\n",
      "Epoch 98/200\n",
      "90/90 - 0s - loss: 0.5057 - acc: 0.7778 - val_loss: 0.3700 - val_acc: 0.7000\n",
      "Epoch 99/200\n",
      "90/90 - 0s - loss: 0.4964 - acc: 0.6889 - val_loss: 0.3643 - val_acc: 0.7667\n",
      "Epoch 100/200\n",
      "90/90 - 0s - loss: 0.4374 - acc: 0.7889 - val_loss: 0.3529 - val_acc: 0.8333\n",
      "Epoch 101/200\n",
      "90/90 - 0s - loss: 0.4562 - acc: 0.8556 - val_loss: 0.3378 - val_acc: 0.9667\n",
      "Epoch 102/200\n",
      "90/90 - 0s - loss: 0.4928 - acc: 0.7222 - val_loss: 0.3363 - val_acc: 0.9667\n",
      "Epoch 103/200\n",
      "90/90 - 0s - loss: 0.4840 - acc: 0.7667 - val_loss: 0.3462 - val_acc: 0.9333\n",
      "Epoch 104/200\n",
      "90/90 - 0s - loss: 0.4959 - acc: 0.7333 - val_loss: 0.3532 - val_acc: 0.7667\n",
      "Epoch 105/200\n",
      "90/90 - 0s - loss: 0.4181 - acc: 0.8333 - val_loss: 0.3555 - val_acc: 0.7667\n",
      "Epoch 106/200\n",
      "90/90 - 0s - loss: 0.4180 - acc: 0.8667 - val_loss: 0.3446 - val_acc: 0.8333\n",
      "Epoch 107/200\n",
      "90/90 - 0s - loss: 0.5052 - acc: 0.7556 - val_loss: 0.3294 - val_acc: 0.9333\n",
      "Epoch 108/200\n",
      "90/90 - 0s - loss: 0.4535 - acc: 0.7556 - val_loss: 0.3169 - val_acc: 0.9667\n",
      "Epoch 109/200\n",
      "90/90 - 0s - loss: 0.4517 - acc: 0.7667 - val_loss: 0.3103 - val_acc: 0.9667\n",
      "Epoch 110/200\n",
      "90/90 - 0s - loss: 0.5058 - acc: 0.7111 - val_loss: 0.3064 - val_acc: 0.9667\n",
      "Epoch 111/200\n",
      "90/90 - 0s - loss: 0.4580 - acc: 0.7778 - val_loss: 0.2861 - val_acc: 1.0000\n",
      "Epoch 112/200\n",
      "90/90 - 0s - loss: 0.4811 - acc: 0.7778 - val_loss: 0.2802 - val_acc: 0.9333\n",
      "Epoch 113/200\n",
      "90/90 - 0s - loss: 0.4445 - acc: 0.7778 - val_loss: 0.2839 - val_acc: 0.9667\n",
      "Epoch 114/200\n",
      "90/90 - 0s - loss: 0.4364 - acc: 0.7778 - val_loss: 0.2903 - val_acc: 1.0000\n",
      "Epoch 115/200\n",
      "90/90 - 0s - loss: 0.4674 - acc: 0.8111 - val_loss: 0.3042 - val_acc: 0.9667\n",
      "Epoch 116/200\n",
      "90/90 - 0s - loss: 0.4426 - acc: 0.8000 - val_loss: 0.3215 - val_acc: 0.9333\n",
      "Epoch 117/200\n",
      "90/90 - 0s - loss: 0.3877 - acc: 0.8222 - val_loss: 0.3384 - val_acc: 0.8000\n",
      "Epoch 118/200\n",
      "90/90 - 0s - loss: 0.4095 - acc: 0.8444 - val_loss: 0.3429 - val_acc: 0.8000\n",
      "Epoch 119/200\n",
      "90/90 - 0s - loss: 0.4235 - acc: 0.7889 - val_loss: 0.3239 - val_acc: 0.8667\n",
      "Epoch 120/200\n",
      "90/90 - 0s - loss: 0.4276 - acc: 0.8000 - val_loss: 0.2875 - val_acc: 0.9667\n",
      "Epoch 121/200\n",
      "90/90 - 0s - loss: 0.4367 - acc: 0.8889 - val_loss: 0.2586 - val_acc: 1.0000\n",
      "Epoch 122/200\n",
      "90/90 - 0s - loss: 0.4065 - acc: 0.8556 - val_loss: 0.2582 - val_acc: 1.0000\n",
      "Epoch 123/200\n",
      "90/90 - 0s - loss: 0.3867 - acc: 0.8556 - val_loss: 0.2694 - val_acc: 0.9667\n",
      "Epoch 124/200\n",
      "90/90 - 0s - loss: 0.4465 - acc: 0.8333 - val_loss: 0.3094 - val_acc: 0.8667\n",
      "Epoch 125/200\n",
      "90/90 - 0s - loss: 0.4024 - acc: 0.8222 - val_loss: 0.3386 - val_acc: 0.8000\n",
      "Epoch 126/200\n",
      "90/90 - 0s - loss: 0.4277 - acc: 0.8000 - val_loss: 0.3122 - val_acc: 0.8667\n",
      "Epoch 127/200\n",
      "90/90 - 0s - loss: 0.3834 - acc: 0.8778 - val_loss: 0.2756 - val_acc: 0.9333\n",
      "Epoch 128/200\n",
      "90/90 - 0s - loss: 0.4423 - acc: 0.7889 - val_loss: 0.2452 - val_acc: 0.9333\n",
      "Epoch 129/200\n",
      "90/90 - 0s - loss: 0.3977 - acc: 0.8333 - val_loss: 0.2476 - val_acc: 0.9333\n",
      "Epoch 130/200\n",
      "90/90 - 0s - loss: 0.3109 - acc: 0.8778 - val_loss: 0.2739 - val_acc: 0.8667\n",
      "Epoch 131/200\n",
      "90/90 - 0s - loss: 0.3606 - acc: 0.8667 - val_loss: 0.2870 - val_acc: 0.8667\n",
      "Epoch 132/200\n",
      "90/90 - 0s - loss: 0.3508 - acc: 0.8667 - val_loss: 0.2714 - val_acc: 0.8667\n",
      "Epoch 133/200\n",
      "90/90 - 0s - loss: 0.3427 - acc: 0.8778 - val_loss: 0.2383 - val_acc: 0.9333\n",
      "Epoch 134/200\n",
      "90/90 - 0s - loss: 0.2905 - acc: 0.9000 - val_loss: 0.1853 - val_acc: 0.9667\n",
      "Epoch 135/200\n",
      "90/90 - 0s - loss: 0.3068 - acc: 0.8889 - val_loss: 0.1537 - val_acc: 1.0000\n",
      "Epoch 136/200\n",
      "90/90 - 0s - loss: 0.3144 - acc: 0.9000 - val_loss: 0.1416 - val_acc: 1.0000\n",
      "Epoch 137/200\n",
      "90/90 - 0s - loss: 0.3558 - acc: 0.8556 - val_loss: 0.1390 - val_acc: 0.9667\n",
      "Epoch 138/200\n",
      "90/90 - 0s - loss: 0.2500 - acc: 0.9000 - val_loss: 0.1430 - val_acc: 0.9667\n",
      "Epoch 139/200\n",
      "90/90 - 0s - loss: 0.2484 - acc: 0.9000 - val_loss: 0.1894 - val_acc: 0.9333\n",
      "Epoch 140/200\n",
      "90/90 - 0s - loss: 0.2858 - acc: 0.8889 - val_loss: 0.2010 - val_acc: 0.9333\n",
      "Epoch 141/200\n",
      "90/90 - 0s - loss: 0.2817 - acc: 0.8889 - val_loss: 0.1491 - val_acc: 0.9667\n",
      "Epoch 142/200\n",
      "90/90 - 0s - loss: 0.2491 - acc: 0.8778 - val_loss: 0.1042 - val_acc: 1.0000\n",
      "Epoch 143/200\n",
      "90/90 - 0s - loss: 0.3482 - acc: 0.8556 - val_loss: 0.0867 - val_acc: 1.0000\n",
      "Epoch 144/200\n",
      "90/90 - 0s - loss: 0.2180 - acc: 0.9000 - val_loss: 0.1147 - val_acc: 0.9667\n",
      "Epoch 145/200\n",
      "90/90 - 0s - loss: 0.2498 - acc: 0.9000 - val_loss: 0.1613 - val_acc: 0.9333\n",
      "Epoch 146/200\n",
      "90/90 - 0s - loss: 0.2777 - acc: 0.9111 - val_loss: 0.1406 - val_acc: 0.9667\n",
      "Epoch 147/200\n",
      "90/90 - 0s - loss: 0.3002 - acc: 0.8889 - val_loss: 0.0984 - val_acc: 1.0000\n",
      "Epoch 148/200\n",
      "90/90 - 0s - loss: 0.3127 - acc: 0.8667 - val_loss: 0.0917 - val_acc: 1.0000\n",
      "Epoch 149/200\n",
      "90/90 - 0s - loss: 0.2607 - acc: 0.8778 - val_loss: 0.1109 - val_acc: 0.9667\n",
      "Epoch 150/200\n",
      "90/90 - 0s - loss: 0.2770 - acc: 0.8667 - val_loss: 0.1577 - val_acc: 0.9667\n",
      "Epoch 151/200\n",
      "90/90 - 0s - loss: 0.2176 - acc: 0.9222 - val_loss: 0.1275 - val_acc: 0.9667\n",
      "Epoch 152/200\n",
      "90/90 - 0s - loss: 0.2687 - acc: 0.9000 - val_loss: 0.0891 - val_acc: 1.0000\n",
      "Epoch 153/200\n",
      "90/90 - 0s - loss: 0.2858 - acc: 0.8667 - val_loss: 0.0755 - val_acc: 1.0000\n",
      "Epoch 154/200\n",
      "90/90 - 0s - loss: 0.1688 - acc: 0.9556 - val_loss: 0.0696 - val_acc: 1.0000\n",
      "Epoch 155/200\n",
      "90/90 - 0s - loss: 0.2352 - acc: 0.9111 - val_loss: 0.0685 - val_acc: 1.0000\n",
      "Epoch 156/200\n",
      "90/90 - 0s - loss: 0.2385 - acc: 0.9222 - val_loss: 0.0688 - val_acc: 1.0000\n",
      "Epoch 157/200\n",
      "90/90 - 0s - loss: 0.1950 - acc: 0.9556 - val_loss: 0.0780 - val_acc: 1.0000\n",
      "Epoch 158/200\n",
      "90/90 - 0s - loss: 0.2495 - acc: 0.9333 - val_loss: 0.0792 - val_acc: 0.9667\n",
      "Epoch 159/200\n",
      "90/90 - 0s - loss: 0.2760 - acc: 0.9000 - val_loss: 0.0884 - val_acc: 0.9667\n",
      "Epoch 160/200\n",
      "90/90 - 0s - loss: 0.1614 - acc: 0.9556 - val_loss: 0.0927 - val_acc: 0.9667\n",
      "Epoch 161/200\n",
      "90/90 - 0s - loss: 0.1533 - acc: 0.9333 - val_loss: 0.0902 - val_acc: 0.9667\n",
      "Epoch 162/200\n",
      "90/90 - 0s - loss: 0.1729 - acc: 0.9556 - val_loss: 0.0885 - val_acc: 0.9667\n",
      "Epoch 163/200\n",
      "90/90 - 0s - loss: 0.2116 - acc: 0.9111 - val_loss: 0.0824 - val_acc: 0.9667\n",
      "Epoch 164/200\n",
      "90/90 - 0s - loss: 0.1915 - acc: 0.9111 - val_loss: 0.0584 - val_acc: 0.9667\n",
      "Epoch 165/200\n",
      "90/90 - 0s - loss: 0.1853 - acc: 0.9333 - val_loss: 0.0657 - val_acc: 0.9667\n",
      "Epoch 166/200\n",
      "90/90 - 0s - loss: 0.1352 - acc: 0.9556 - val_loss: 0.0662 - val_acc: 0.9667\n",
      "Epoch 167/200\n",
      "90/90 - 0s - loss: 0.2408 - acc: 0.9222 - val_loss: 0.0761 - val_acc: 0.9667\n",
      "Epoch 168/200\n",
      "90/90 - 0s - loss: 0.1846 - acc: 0.9222 - val_loss: 0.0573 - val_acc: 0.9667\n",
      "Epoch 169/200\n",
      "90/90 - 0s - loss: 0.1817 - acc: 0.9333 - val_loss: 0.0493 - val_acc: 1.0000\n",
      "Epoch 170/200\n",
      "90/90 - 0s - loss: 0.1795 - acc: 0.9333 - val_loss: 0.0485 - val_acc: 1.0000\n",
      "Epoch 171/200\n",
      "90/90 - 0s - loss: 0.1306 - acc: 0.9444 - val_loss: 0.0936 - val_acc: 0.9667\n",
      "Epoch 172/200\n",
      "90/90 - 0s - loss: 0.2180 - acc: 0.9333 - val_loss: 0.1810 - val_acc: 0.9333\n",
      "Epoch 173/200\n",
      "90/90 - 0s - loss: 0.2096 - acc: 0.9111 - val_loss: 0.1747 - val_acc: 0.9333\n",
      "Epoch 174/200\n",
      "90/90 - 0s - loss: 0.1800 - acc: 0.9444 - val_loss: 0.0769 - val_acc: 0.9667\n",
      "Epoch 175/200\n",
      "90/90 - 0s - loss: 0.1905 - acc: 0.9333 - val_loss: 0.0571 - val_acc: 1.0000\n",
      "Epoch 176/200\n",
      "90/90 - 0s - loss: 0.1299 - acc: 0.9889 - val_loss: 0.0603 - val_acc: 1.0000\n",
      "Epoch 177/200\n",
      "90/90 - 0s - loss: 0.1689 - acc: 0.9333 - val_loss: 0.0653 - val_acc: 0.9667\n",
      "Epoch 178/200\n",
      "90/90 - 0s - loss: 0.1601 - acc: 0.9444 - val_loss: 0.1091 - val_acc: 0.9667\n",
      "Epoch 179/200\n",
      "90/90 - 0s - loss: 0.2312 - acc: 0.9111 - val_loss: 0.1678 - val_acc: 0.9333\n",
      "Epoch 180/200\n",
      "90/90 - 0s - loss: 0.2695 - acc: 0.8889 - val_loss: 0.1993 - val_acc: 0.9333\n",
      "Epoch 181/200\n",
      "90/90 - 0s - loss: 0.3048 - acc: 0.8889 - val_loss: 0.1856 - val_acc: 0.9333\n",
      "Epoch 182/200\n",
      "90/90 - 0s - loss: 0.1630 - acc: 0.9667 - val_loss: 0.0852 - val_acc: 0.9667\n"
     ]
    },
    {
     "name": "stdout",
     "output_type": "stream",
     "text": [
      "Epoch 183/200\n",
      "90/90 - 0s - loss: 0.2040 - acc: 0.9556 - val_loss: 0.0697 - val_acc: 0.9667\n",
      "Epoch 184/200\n",
      "90/90 - 0s - loss: 0.2066 - acc: 0.9000 - val_loss: 0.0762 - val_acc: 0.9667\n",
      "Epoch 185/200\n",
      "90/90 - 0s - loss: 0.1921 - acc: 0.9222 - val_loss: 0.1026 - val_acc: 0.9667\n",
      "Epoch 186/200\n",
      "90/90 - 0s - loss: 0.1415 - acc: 0.9556 - val_loss: 0.1175 - val_acc: 0.9667\n",
      "Epoch 187/200\n",
      "90/90 - 0s - loss: 0.1449 - acc: 0.9222 - val_loss: 0.0911 - val_acc: 0.9667\n",
      "Epoch 188/200\n",
      "90/90 - 0s - loss: 0.1284 - acc: 0.9556 - val_loss: 0.0659 - val_acc: 0.9667\n",
      "Epoch 189/200\n",
      "90/90 - 0s - loss: 0.2457 - acc: 0.9556 - val_loss: 0.0661 - val_acc: 0.9667\n",
      "Epoch 190/200\n",
      "90/90 - 0s - loss: 0.1172 - acc: 0.9556 - val_loss: 0.0781 - val_acc: 0.9667\n",
      "Epoch 191/200\n",
      "90/90 - 0s - loss: 0.1324 - acc: 0.9556 - val_loss: 0.1087 - val_acc: 0.9667\n",
      "Epoch 192/200\n",
      "90/90 - 0s - loss: 0.2093 - acc: 0.9000 - val_loss: 0.0782 - val_acc: 0.9667\n",
      "Epoch 193/200\n",
      "90/90 - 0s - loss: 0.1809 - acc: 0.9222 - val_loss: 0.0441 - val_acc: 1.0000\n",
      "Epoch 194/200\n",
      "90/90 - 0s - loss: 0.1657 - acc: 0.9778 - val_loss: 0.0339 - val_acc: 1.0000\n",
      "Epoch 195/200\n",
      "90/90 - 0s - loss: 0.1889 - acc: 0.9333 - val_loss: 0.0389 - val_acc: 1.0000\n",
      "Epoch 196/200\n",
      "90/90 - 0s - loss: 0.1862 - acc: 0.9444 - val_loss: 0.0738 - val_acc: 0.9667\n",
      "Epoch 197/200\n",
      "90/90 - 0s - loss: 0.1070 - acc: 0.9889 - val_loss: 0.1775 - val_acc: 0.9333\n",
      "Epoch 198/200\n",
      "90/90 - 0s - loss: 0.1232 - acc: 0.9556 - val_loss: 0.1581 - val_acc: 0.9667\n",
      "Epoch 199/200\n",
      "90/90 - 0s - loss: 0.1650 - acc: 0.9556 - val_loss: 0.0901 - val_acc: 0.9667\n",
      "Epoch 200/200\n",
      "90/90 - 0s - loss: 0.1763 - acc: 0.9222 - val_loss: 0.0634 - val_acc: 0.9667\n"
     ]
    }
   ],
   "source": [
    "# compliar el modelo\n",
    "model.compile(\n",
    "    optimizer='adam', \n",
    "    loss='categorical_crossentropy', \n",
    "    metrics=['accuracy']\n",
    ")\n",
    "#entrenar de nuevo el modelo\n",
    "history = model.fit(\n",
    "    X_train, \n",
    "    y_train, \n",
    "    epochs=200, \n",
    "    validation_split=0.25, \n",
    "    batch_size=40, \n",
    "    verbose=2\n",
    ")"
   ]
  },
  {
   "cell_type": "code",
   "execution_count": 40,
   "metadata": {},
   "outputs": [
    {
     "data": {
      "text/plain": [
       "[0.03406968712806702, 1.0]"
      ]
     },
     "execution_count": 40,
     "metadata": {},
     "output_type": "execute_result"
    }
   ],
   "source": [
    "#evaluar el modelo\n",
    "model.evaluate(X_test, y_test, verbose=2)"
   ]
  },
  {
   "cell_type": "code",
   "execution_count": null,
   "metadata": {},
   "outputs": [],
   "source": []
  },
  {
   "cell_type": "code",
   "execution_count": null,
   "metadata": {},
   "outputs": [],
   "source": []
  },
  {
   "cell_type": "code",
   "execution_count": null,
   "metadata": {},
   "outputs": [],
   "source": []
  },
  {
   "cell_type": "code",
   "execution_count": null,
   "metadata": {},
   "outputs": [],
   "source": []
  }
 ],
 "metadata": {
  "kernelspec": {
   "display_name": "Python 3",
   "language": "python",
   "name": "python3"
  },
  "language_info": {
   "codemirror_mode": {
    "name": "ipython",
    "version": 3
   },
   "file_extension": ".py",
   "mimetype": "text/x-python",
   "name": "python",
   "nbconvert_exporter": "python",
   "pygments_lexer": "ipython3",
   "version": "3.8.5"
  }
 },
 "nbformat": 4,
 "nbformat_minor": 4
}
