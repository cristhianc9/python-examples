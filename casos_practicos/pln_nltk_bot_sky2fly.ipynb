{
 "cells": [
  {
   "cell_type": "code",
   "execution_count": 79,
   "id": "ab4c2021",
   "metadata": {},
   "outputs": [],
   "source": [
    "#Importamos la librería base NLTK\n",
    "import nltk\n",
    "\n",
    "#Importamos el componente de NLTK para tokenizar\n",
    "from nltk.tokenize import word_tokenize\n",
    "\n",
    "#Importamos el corpus CESS en Español\n",
    "from nltk.corpus import cess_esp\n",
    "\n",
    "#Taggers HMM\n",
    "from nltk.tag.hmm import HiddenMarkovModelTagger\n",
    "\n",
    "#RegEx Parser\n",
    "from nltk.chunk.regexp import *\n",
    "\n",
    "\n",
    "#Esto nos permitirá crear los conjuntos de test y train\n",
    "from sklearn.model_selection import train_test_split\n",
    "\n",
    "#Importamos por último pands\n",
    "import pandas as pd\n",
    "\n",
    "#libreria json para convertir texto a json\n",
    "import json"
   ]
  },
  {
   "cell_type": "code",
   "execution_count": 350,
   "id": "d0eaabc0",
   "metadata": {},
   "outputs": [],
   "source": [
    "#Se afina el corpus a partir del original, para poder contemplar algunos escenario, incluidas las frases que se encuentran como test en el enunciado del caso practico.\n",
    "corpus=[    \n",
    "    [('Quiero', 'vmip1s0'), ('2', 'z'), ('billetes', 'ncmp000'), ('de', 'SPCMS'), ('Madrid', 'ncfp000'), ('a', 'sps00'), ('Frankfurt', 'np000g0'), ('en', 'sps00'), ('Septiembre', 'w')], \n",
    "    [('Necesito', 'vmip1s0'), ('comprar', 'vmip1s0'), ('un', 'di0ms0'), ('billete', 'ncms000'), ('a', 'sps00'), ('Madrid', 'np000g0'), ('el', 'tdms0'), ('5', 'w'), ('de', 'sps00'), ('Agosto', 'w')], \n",
    "    [('Comprar', 'vmn0000'), ('billete', 'ncms000'), ('Barcelona', 'ncfp000'), ('a', 'sps00'), ('Roma', 'np000g0'), ('para', 'sps00'), ('el', 'tdms0'), ('25', 'w'), ('de', 'sps00'), ('agosto', 'w'), ('con', 'sps00'), ('Iberia', 'npcso00')], \n",
    "    [('Billete', 'ncms000'), ('barato', 'aq0ms0'), ('AirEuropa', 'npcso00'), ('de', 'SPCMS'), ('Madrid', 'ncfp000'), ('a', 'sps00'), ('Sevilla', 'np000g0')],\n",
    "    [('Quiero', 'vmip1s0'), ('ir', 'vmip1s0'), ('a', 'sps00'), ('Roma', 'np000g0'), ('con', 'sps00'), ('Lufthansa', 'npcso00')],    \n",
    "    [('Billete', 'ncms000'), ('de', 'SPCMS'), ('Berlin', 'ncfp000'), ('a', 'sps00'), ('Madrid', 'np000g0'), ('con', 'sps00'), ('Lufthansa', 'npcso00')],\n",
    "    [('Comprar', 'vmn0000'), ('tres', 'di0ms0'), ('billetes', 'ncmp000'), ('para', 'sps00'), ('el', 'tdms0'), ('15', 'w'), ('de', 'sps00'), ('octubre', 'w'), ('con', 'sps00'), ('Iberia', 'npcso00'), ('de', 'sps00'), ('Madrid', 'ncfp000'), ('a', 'sps00'), ('Bilbao', 'np000g0')]    \n",
    "]"
   ]
  },
  {
   "cell_type": "code",
   "execution_count": 324,
   "id": "fc6cfd00",
   "metadata": {},
   "outputs": [],
   "source": [
    "frases=[\n",
    "    'Comprar billete Barcelona a Roma para el 25 de Agosto con Iberia',\n",
    "    'Quiero 2 billetes de Madrid a Frankfurt en Septiembre',\n",
    "    'Necesito comprar un billete a Madrid el 5 de Agosto',\n",
    "    'Billete barato AirEuropa de Madrid a Sevilla',\n",
    "    #se agregan estas frases que se encuentran como prueba en el enunciado del caso practico\n",
    "    'Billete de Berlin a Madrid con Lufthansa',\n",
    "    'Comprar tres billetes para el 15 de octubre con Iberia de Madrid a Bilbao'\n",
    "]"
   ]
  },
  {
   "attachments": {},
   "cell_type": "markdown",
   "id": "dac49db3",
   "metadata": {},
   "source": [
    "### Entrenamiento con el modelo HiddenMarkovModelTagger y definicion de una funcion que permite etiquetar a las palabras"
   ]
  },
  {
   "cell_type": "code",
   "execution_count": 351,
   "id": "f96d0b63",
   "metadata": {},
   "outputs": [],
   "source": [
    "#entrenamiento del tagger con el corpus original modificado/mejorado su etiquedato ya que son pocos datos\n",
    "tagger = HiddenMarkovModelTagger.train(corpus)\n",
    "def get_tagged(peticion):\n",
    "    tokens = word_tokenize(peticion, language='spanish')\n",
    "    return tagger.tag(tokens)"
   ]
  },
  {
   "cell_type": "code",
   "execution_count": 343,
   "id": "cdae22d3",
   "metadata": {},
   "outputs": [
    {
     "name": "stdout",
     "output_type": "stream",
     "text": [
      "Comprar billete Barcelona a Roma para el 25 de Agosto con Iberia\n",
      "[('Comprar', 'vmn0000'), ('billete', 'ncms000'), ('Barcelona', 'ncfp000'), ('a', 'sps00'), ('Roma', 'np000g0'), ('para', 'sps00'), ('el', 'tdms0'), ('25', 'w'), ('de', 'sps00'), ('Agosto', 'w'), ('con', 'sps00'), ('Iberia', 'npcso00')]\n",
      "\n",
      "\n",
      "Quiero 2 billetes de Madrid a Frankfurt en Septiembre\n",
      "[('Quiero', 'vmip1s0'), ('2', 'z'), ('billetes', 'ncmp000'), ('de', 'SPCMS'), ('Madrid', 'ncfp000'), ('a', 'sps00'), ('Frankfurt', 'np000g0'), ('en', 'sps00'), ('Septiembre', 'w')]\n",
      "\n",
      "\n",
      "Necesito comprar un billete a Madrid el 5 de Agosto\n",
      "[('Necesito', 'vmip1s0'), ('comprar', 'vmip1s0'), ('un', 'di0ms0'), ('billete', 'ncms000'), ('a', 'sps00'), ('Madrid', 'np000g0'), ('el', 'tdms0'), ('5', 'w'), ('de', 'sps00'), ('Agosto', 'w')]\n",
      "\n",
      "\n",
      "Billete barato AirEuropa de Madrid a Sevilla\n",
      "[('Billete', 'ncms000'), ('barato', 'aq0ms0'), ('AirEuropa', 'npcso00'), ('de', 'SPCMS'), ('Madrid', 'ncfp000'), ('a', 'sps00'), ('Sevilla', 'np000g0')]\n",
      "\n",
      "\n",
      "Billete de Berlin a Madrid con Lufthansa\n",
      "[('Billete', 'ncms000'), ('de', 'SPCMS'), ('Berlin', 'ncfp000'), ('a', 'sps00'), ('Madrid', 'np000g0'), ('con', 'sps00'), ('Lufthansa', 'npcso00')]\n",
      "\n",
      "\n",
      "Comprar tres billetes para el 15 de octubre con Iberia de Madrid a Bilbao\n",
      "[('Comprar', 'vmn0000'), ('tres', 'di0ms0'), ('billetes', 'ncmp000'), ('para', 'sps00'), ('el', 'tdms0'), ('15', 'w'), ('de', 'sps00'), ('octubre', 'w'), ('con', 'sps00'), ('Iberia', 'npcso00'), ('de', 'SPCMS'), ('Madrid', 'ncfp000'), ('a', 'sps00'), ('Bilbao', 'np000g0')]\n",
      "\n",
      "\n"
     ]
    }
   ],
   "source": [
    "# Prueba de frases de ejemplo\n",
    "for peticion in frases:    \n",
    "    print(peticion)\n",
    "    print(get_tagged(peticion))\n",
    "    print(\"\\n\")"
   ]
  },
  {
   "attachments": {},
   "cell_type": "markdown",
   "id": "bb43b666",
   "metadata": {},
   "source": [
    "# 1. Parte básica:\n",
    "\n",
    "Generar una tabla o JSON que contenga la siguiente información de cada mensaje:\n",
    "\n",
    "- Para el mensaje: “Comprar tres billetes para el 15 de octubre con Iberia de Madrid a Bilbao”.\n",
    "- Para la frase “Billete de Berlín a Madrid con Lufthansa”."
   ]
  },
  {
   "cell_type": "code",
   "execution_count": 344,
   "id": "3c90b3f5",
   "metadata": {},
   "outputs": [],
   "source": [
    "#Definicion de las reglas de expresion regular y parser\n",
    "reglas = r'''\n",
    "    cantidad: {<z>|<mccp00>|<di0ms0|di0fs0|di0mp0|di0fp0|dn0cp0|mcmp00|mcfp00|mcfs00> || <mcmp00>* || <mcfp00> |<aq0ms0>} \n",
    "    origen: {<ncfp000>}\n",
    "    destino: {<np000g0>}\n",
    "    aerolinea: {<npcso00>}\n",
    "    fecha:{<w>*<sps00>*<w>}\n",
    "      '''\n",
    "regexParser = nltk.RegexpParser(reglas)\n",
    "def parsear(phrase):\n",
    "    return regexParser.parse(phrase)"
   ]
  },
  {
   "cell_type": "markdown",
   "id": "321a6c07",
   "metadata": {},
   "source": []
  },
  {
   "cell_type": "code",
   "execution_count": 357,
   "id": "df597461",
   "metadata": {},
   "outputs": [],
   "source": [
    "#generar objeto con datos de vuelo\n",
    "def genera_reserva_vuelo(tree):\n",
    "    \n",
    "    item = {}\n",
    "    item[\"origen\"] = None\n",
    "    item[\"destino\"] = None\n",
    "    item[\"fecha\"] = None    \n",
    "    item[\"cantidad\"] = 1\n",
    "    item[\"aerolinea\"] = None\n",
    "            \n",
    "    #Lectura de cada nodo categorizado\n",
    "    for nodo in tree:\n",
    "        if type(nodo) == tuple:\n",
    "            continue\n",
    "        \n",
    "        valor = None\n",
    "        valor_fecha = ''\n",
    "        \n",
    "        #Para el nodo fecha se enlaza cada elemento\n",
    "        if nodo.label() == 'fecha':\n",
    "            for elemento in nodo:\n",
    "                palabra, categoria = elemento\n",
    "                valor_fecha = valor_fecha.strip() + ' ' + palabra\n",
    "            item[\"fecha\"] = valor_fecha\n",
    "        #Para los otros nodos se obtiene su valor correspondiente\n",
    "        else:\n",
    "            for elemento in nodo:                \n",
    "                palabra, categoria = elemento\n",
    "                valor = palabra\n",
    "                if nodo.label() == 'origen':\n",
    "                    item[\"origen\"] = valor\n",
    "                if nodo.label() == 'destino':\n",
    "                    item[\"destino\"] = valor\n",
    "                if nodo.label() == 'cantidad':\n",
    "                    item[\"cantidad\"] = valor\n",
    "                if nodo.label() == 'aerolinea':\n",
    "                    item[\"aerolinea\"] = valor         \n",
    "    return item"
   ]
  },
  {
   "cell_type": "code",
   "execution_count": 358,
   "id": "a562c3fb",
   "metadata": {},
   "outputs": [],
   "source": [
    "#Funcion que genera el json a partir de la frase enviada\n",
    "def generar_json(frase):\n",
    "    frase_tagged = get_tagged(frase)\n",
    "    frase_parsed = parsear(frase_tagged)    \n",
    "    item = genera_reserva_vuelo(frase_parsed)\n",
    "    with open('output.txt','w') as file:\n",
    "        file.write(json.dumps(item))\n",
    "    return item"
   ]
  },
  {
   "cell_type": "code",
   "execution_count": 359,
   "id": "e2fc762d",
   "metadata": {},
   "outputs": [
    {
     "data": {
      "text/plain": [
       "{'origen': 'Berlin',\n",
       " 'destino': 'Madrid',\n",
       " 'fecha': None,\n",
       " 'cantidad': 1,\n",
       " 'aerolinea': 'Lufthansa'}"
      ]
     },
     "execution_count": 359,
     "metadata": {},
     "output_type": "execute_result"
    }
   ],
   "source": [
    "#Prueba de frases del caso practico\n",
    "peticion1 = \"Billete de Berlin a Madrid con Lufthansa\"\n",
    "generar_json(peticion1)"
   ]
  },
  {
   "cell_type": "code",
   "execution_count": 360,
   "id": "43d91a3c",
   "metadata": {},
   "outputs": [
    {
     "data": {
      "text/plain": [
       "{'origen': 'Madrid',\n",
       " 'destino': 'Bilbao',\n",
       " 'fecha': '15 de octubre',\n",
       " 'cantidad': 'tres',\n",
       " 'aerolinea': 'Iberia'}"
      ]
     },
     "execution_count": 360,
     "metadata": {},
     "output_type": "execute_result"
    }
   ],
   "source": [
    "#Prueba de frases del caso practico\n",
    "peticion2 = \"Comprar tres billetes para el 15 de octubre con Iberia de Madrid a Bilbao\"\n",
    "generar_json(peticion2)"
   ]
  },
  {
   "attachments": {},
   "cell_type": "markdown",
   "id": "816c7168",
   "metadata": {},
   "source": [
    "# 2. Parte intermedia:\n",
    "Crear un asistente virtual. \n",
    "\n",
    "Al ejecutar la función asistent(), el usuario debe escuchar el mensaje “Hola, bienvenido a sky2travel. ¿Cómo te puedo ayudar?”. A continuación, indicará lo que quiere; por ejemplo, “Billete de Berlín a Madrid con Iberia”; posteriormente, se lanzará el bot creado en la parte básica y se devolverá el mensaje por voz: “Perfecto. Comienzo la búsqueda de tu viaje a X desde Y para el <fecha> con <aerolínea>”.\n",
    "\n",
    " La conversión de text a audio y viceversa es un plus. Al menos se debe interactuar como un chat escrito.\n"
   ]
  },
  {
   "cell_type": "code",
   "execution_count": 367,
   "id": "05da75d0",
   "metadata": {},
   "outputs": [
    {
     "name": "stdout",
     "output_type": "stream",
     "text": [
      "Hola, bienvenido a sky2travel. ¿Cómo te puedo ayudar?\n",
      "Perfecto. Comienzo la búsqueda de tu viaje a  Bilbado  desde  Madrid  para el  10 de octubre  con  Iberia\n"
     ]
    }
   ],
   "source": [
    "print(\"Hola, bienvenido a sky2travel. ¿Cómo te puedo ayudar?\")\n",
    "#Quiero un billete de Madrid a Bilbado para el 10 de octubre con Iberia\n",
    "peticion = input()\n",
    "respuesta= generar_json(peticion)\n",
    "print( \"Perfecto. Comienzo la búsqueda de tu viaje a \", respuesta.get(\"destino\"), \" desde \" , respuesta.get(\"origen\"), \" para el \", respuesta.get(\"fecha\"),\" con \",respuesta.get(\"aerolinea\") )\n"
   ]
  },
  {
   "cell_type": "markdown",
   "id": "288ea095",
   "metadata": {},
   "source": [
    "##### 3. Parte avanzada:\n",
    "\n",
    "Una vez se han podido detectar los datos básicos del pedido, Amadeus para poder tramitar o buscar los vuelos no puede trabajar con el nombre de la ciudad, necesita el código IATA del aeropuerto. \n",
    "\n",
    "Para obtener dicho código habrá que hacer uso de la API abierta “Air-Port-Codes”. En la sección de Recursos puede encontrar más información sobre esta API.\n",
    "En la parte final de la práctica, los alumnos deberán de generar un JSON como en la parte básica, pero incluyendo los siguientes campos:\n",
    "\n",
    "Origen: ‘Madrid’ -> String nombre ciudad\n",
    "Destino: ‘Frankfurt’ -> String nombre ciudad\n",
    "IATA_FROM: ‘MAD’ -> String 3 carácteres\n",
    "IATA_TO: ‘FRA’ -> String 3 carácteres\n",
    "Fecha: ‘15-08-2021’ -> Fecha (formato dd-mm-yyy o string)\n",
    "Pax: 3 -> Int\n",
    "    \n",
    "### Recursos:\n",
    "\n",
    "En esta sección se pueden encontrar recursos de ayuda o instrucciones para hacer la práctica:\n",
    "\n",
    "Frases de ejemplo: “frases-travel.txt”.\n",
    "Corpus tagueado travel para entrenamiento: “corpus-travel.txt”.\n",
    "Etiquetas EAGLES: https://www.cs.upc.edu/~nlp/tools/parole-sp.html\n",
    "“Air-Port-Codes” API:\n",
    " a) Para registrarse en la API, acceder a: https://www.air-port-codes.com/auth/register/\n",
    "\n",
    " b) La API que se deberá utilizar es: /api/v1/multi.\n",
    "\n",
    " c) La API solo admite nombre de ciudades en inglés (por ejemplo, en lugar de Londres, habrá que enviarle London; en el caso de Berlín, Berlin). Está permitido utilizar cualquier librería o API para traducir nombres de ciudades si fuese necesario."
   ]
  }
 ],
 "metadata": {
  "kernelspec": {
   "display_name": "Python 3",
   "language": "python",
   "name": "python3"
  },
  "language_info": {
   "codemirror_mode": {
    "name": "ipython",
    "version": 3
   },
   "file_extension": ".py",
   "mimetype": "text/x-python",
   "name": "python",
   "nbconvert_exporter": "python",
   "pygments_lexer": "ipython3",
   "version": "3.9.15"
  },
  "vscode": {
   "interpreter": {
    "hash": "9470b8784b959759c7c699b367576c0be7b48eef9ff58c8b0d64956fc07e03c6"
   }
  }
 },
 "nbformat": 4,
 "nbformat_minor": 5
}
