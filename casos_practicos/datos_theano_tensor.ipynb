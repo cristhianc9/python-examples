{
 "cells": [
  {
   "cell_type": "markdown",
   "metadata": {},
   "source": [
    "# Evaluación Repaso"
   ]
  },
  {
   "cell_type": "markdown",
   "metadata": {},
   "source": [
    "## Problema 1.\n",
    "Crear un conjunto de datos utilizando el siguiente código:\n",
    "\n",
    "    trX = np.linspace(-1, 1, 101)\n",
    "    trY = np.linspace(-1, 1, 101)\n",
    "    for i in range(len(trY)):\n",
    "        trY[i] = math.log(1 + 0.5 * abs(trX[i])) + trX[i] / 3 + np.random.randn() * 0.033\n",
    "\n",
    "Ahora utilizar Theano para obtener los parámetros w_0 y w_1 del siguiente modelo\n",
    "$$ y = \\log(1 + w_0  |x|) + w_1  x, $$\n",
    "utilizando los datos generados anteriormente.\n",
    "\n",
    "### Solución\n",
    "En primer lugar se ha de crear el conjunto de datos para el entrenamiento del modelo con el ruido."
   ]
  },
  {
   "cell_type": "code",
   "execution_count": 11,
   "metadata": {
    "collapsed": true
   },
   "outputs": [],
   "source": [
    "trX = np.linspace(-1, 1, 101)\n",
    "trY = np.linspace(-1, 1, 101)\n",
    "for i in range(len(trY)):\n",
    "    trY[i] = math.log(1 + 0.5 * abs(trX[i])) + trX[i] / 3 + np.random.randn() * 0.033"
   ]
  },
  {
   "cell_type": "markdown",
   "metadata": {},
   "source": [
    "Se ha de crear un modelo acorde a los indicado en el enunciado y entrenarlo."
   ]
  },
  {
   "cell_type": "code",
   "execution_count": 12,
   "metadata": {},
   "outputs": [
    {
     "name": "stdout",
     "output_type": "stream",
     "text": [
      "En el paso  0  w0 =  0.203942593873  y w1 =  0.170997359226\n",
      "En el paso  1  w0 =  0.311719406879  y w1 =  0.258139111064\n",
      "En el paso  2  w0 =  0.377395845965  y w1 =  0.300814482724\n",
      "En el paso  3  w0 =  0.4198301202  y w1 =  0.321197602654\n",
      "En el paso  4  w0 =  0.448061318922  y w1 =  0.330649712865\n",
      "En el paso  5  w0 =  0.46714921535  y w1 =  0.33484146201\n",
      "En el paso  6  w0 =  0.480178136483  y w1 =  0.336560104691\n",
      "En el paso  7  w0 =  0.489123162913  y w1 =  0.337155544625\n",
      "En el paso  8  w0 =  0.495286881182  y w1 =  0.337269431215\n",
      "En el paso  9  w0 =  0.499544068618  y w1 =  0.33719855799\n"
     ]
    }
   ],
   "source": [
    "import theano\n",
    "import theano.tensor as T\n",
    "\n",
    "X = T.scalar()\n",
    "Y = T.scalar()\n",
    "\n",
    "def model(X, w0, w1):\n",
    "    return T.log(1 + w0 * abs(X)) + w1 * X\n",
    "\n",
    "w0 = theano.shared(np.asarray(0., dtype=theano.config.floatX))\n",
    "w1 = theano.shared(np.asarray(0., dtype=theano.config.floatX))\n",
    "y = model(X, w0, w1)\n",
    "\n",
    "cost = T.mean(T.sqr(y - Y))\n",
    "gradient0 = T.grad(cost = cost, wrt = w0)\n",
    "gradient1 = T.grad(cost = cost, wrt = w1)\n",
    "updates = [[w0, w0 - gradient0 * 0.01], [w1, w1 - gradient1 * 0.01]]\n",
    "\n",
    "train = theano.function(inputs = [X, Y], outputs = cost, updates = updates)\n",
    "\n",
    "for i in range(10):\n",
    "    for x, y in zip(trX, trY):\n",
    "        train(x, y)\n",
    "        \n",
    "    print \"En el paso \", i, \" w0 = \", w0.get_value(), \" y w1 = \", w1.get_value()"
   ]
  },
  {
   "cell_type": "markdown",
   "metadata": {},
   "source": [
    "En los resultados se puede observar que los valores son similares a los utilizados en el modelo $w_0 \\simeq 0.5$ y $w_1 \\simeq \\frac{1}{3} = 0.333$\n",
    "\n"
   ]
  }
 ],
 "metadata": {
  "kernelspec": {
   "display_name": "Python 3",
   "language": "python",
   "name": "python3"
  },
  "language_info": {
   "codemirror_mode": {
    "name": "ipython",
    "version": 3
   },
   "file_extension": ".py",
   "mimetype": "text/x-python",
   "name": "python",
   "nbconvert_exporter": "python",
   "pygments_lexer": "ipython3",
   "version": "3.8.5"
  }
 },
 "nbformat": 4,
 "nbformat_minor": 2
}
